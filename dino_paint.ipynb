{
 "cells": [
  {
   "attachments": {},
   "cell_type": "markdown",
   "id": "f9282643-c6fa-4806-8a91-0156710c8664",
   "metadata": {},
   "source": [
    "# Semantic Segmentation with convpaint and DINOv2\n",
    "\n",
    "This notebooks demonstrates how to run a semantic segmentation on an image using DINOv2 for feature extraction and a random forest algorithm for classification. It is based on the notebook provided by convpaint.\n"
   ]
  },
  {
   "attachments": {},
   "cell_type": "markdown",
   "id": "c9a1c36c",
   "metadata": {},
   "source": [
    "## Imports"
   ]
  },
  {
   "cell_type": "code",
   "execution_count": 3,
   "id": "e314538e-f42d-42d0-89a9-4ddd4588c483",
   "metadata": {},
   "outputs": [
    {
     "name": "stdout",
     "output_type": "stream",
     "text": [
      "The autoreload extension is already loaded. To reload it, use:\n",
      "  %reload_ext autoreload\n"
     ]
    }
   ],
   "source": [
    "%load_ext autoreload\n",
    "%autoreload 2\n",
    "\n",
    "import napari\n",
    "import numpy as np\n",
    "import skimage\n",
    "from matplotlib import pyplot as plt\n",
    "from dino_paint_utils import (train_dino_forest,\n",
    "                              predict_dino_forest,\n",
    "                              selfpredict_dino_forest,\n",
    "                              test_dino_forest)"
   ]
  },
  {
   "attachments": {},
   "cell_type": "markdown",
   "id": "1570ce97",
   "metadata": {},
   "source": [
    "## Choose the model"
   ]
  },
  {
   "attachments": {},
   "cell_type": "markdown",
   "id": "6f82e4b3",
   "metadata": {},
   "source": [
    "1) Choose the **DINOv2 model** to be used (assign None to not use DINOv2):\n",
    "\n",
    "|key | model| features\n",
    "|---|---|---|\n",
    "|'s' | dinov2_vits14| 384|\n",
    "|'b' | dinov2_vitb14| 768|\n",
    "|'l' | dinov2_vitl14| 1024|\n",
    "|'g' | dinov2_vitg14| 1536|\n",
    "|'r' | dinov2_vitg14_reg (not supported yet)| 1536, with registers|\n",
    "\n",
    "\n",
    "2) Choose the **layers of VGG16** to be attatched as additional features (give a list of indices; only use Conv2d layers; assign None to not use VGG16):\n",
    "\n",
    "|index|layer|\n",
    "|---|---|\n",
    "|**0**|**Conv2d3, 64, kernel_size=3, stride=1, padding=1**|\n",
    "|1|ReLUinplace=True|\n",
    "|**2**|**Conv2d64, 64, kernel_size=3, stride=1, padding=1**|\n",
    "|3|ReLUinplace=True|\n",
    "|4|MaxPool2dkernel_size=2, stride=2, padding=0, dilation=1, ceil_mode=False|\n",
    "|**5**|**Conv2d64, 128, kernel_size=3, stride=1, padding=1**|\n",
    "|6|ReLUinplace=True|\n",
    "|**7**|**Conv2d128, 128, kernel_size=3, stride=1, padding=1**|\n",
    "|8|ReLUinplace=True|\n",
    "|9|MaxPool2dkernel_size=2, stride=2, padding=0, dilation=1, ceil_mode=False|\n",
    "|**10**|**Conv2d128, 256, kernel_size=3, stride=1, padding=1**|\n",
    "|11|ReLUinplace=True|\n",
    "|**12**|**Conv2d256, 256, kernel_size=3, stride=1, padding=1**|\n",
    "|13|ReLUinplace=True|\n",
    "|**14**|**Conv2d256, 256, kernel_size=3, stride=1, padding=1**|\n",
    "|15|ReLUinplace=True|\n",
    "|16|MaxPool2dkernel_size=2, stride=2, padding=0, dilation=1, ceil_mode=False|\n",
    "|**17**|**Conv2d256, 512, kernel_size=3, stride=1, padding=1**|\n",
    "|18|ReLUinplace=True|\n",
    "|**19**|**Conv2d512, 512, kernel_size=3, stride=1, padding=1**|\n",
    "|20|ReLUinplace=True|\n",
    "|**21**|**Conv2d512, 512, kernel_size=3, stride=1, padding=1**|\n",
    "|22|ReLUinplace=True|\n",
    "|23|MaxPool2dkernel_size=2, stride=2, padding=0, dilation=1, ceil_mode=False|\n",
    "|**24**|**Conv2d512, 512, kernel_size=3, stride=1, padding=1**|\n",
    "|25|ReLUinplace=True|\n",
    "|**26**|**Conv2d512, 512, kernel_size=3, stride=1, padding=1**|\n",
    "|27|ReLUinplace=True|\n",
    "|**28**|**Conv2d512, 512, kernel_size=3, stride=1, padding=1**|\n",
    "|29|ReLUinplace=True|\n",
    "|30|MaxPool2dkernel_size=2, stride=2, padding=0, dilation=1, ceil_mode=False|\n",
    "\n",
    "3) Choose if the **image itself** (3 rgb channels) shall be added as features.\n",
    "\n"
   ]
  },
  {
   "cell_type": "code",
   "execution_count": 10,
   "id": "80e4c999",
   "metadata": {},
   "outputs": [],
   "source": [
    "dinov2_model = 's'\n",
    "vgg16 = None # [0,2,5,7,10,12,14,17,19,21,24,26,28]\n",
    "image_as_feature = False\n",
    "scale = 1"
   ]
  },
  {
   "attachments": {},
   "cell_type": "markdown",
   "id": "36382298",
   "metadata": {},
   "source": [
    "## Train"
   ]
  },
  {
   "attachments": {},
   "cell_type": "markdown",
   "id": "3ea22d4c",
   "metadata": {},
   "source": [
    "Load an image and its annotation/labels to train the model on."
   ]
  },
  {
   "cell_type": "code",
   "execution_count": 6,
   "id": "7def2e14",
   "metadata": {},
   "outputs": [],
   "source": [
    "# image_to_train = skimage.data.cells3d()\n",
    "# image_to_train = image_to_train[30, 1]\n",
    "# from napari_convpaint.convpaint_sample import create_annotation_cell3d\n",
    "# labels_to_train = create_annotation_cell3d()[0][0]\n",
    "# image_to_train = image_to_train[:, :126]\n",
    "# labels_to_train = labels_to_train[:, :126]\n",
    "\n",
    "# crop = ((60,288), (0,178))\n",
    "# crop = ((20,20+224), (0,224))\n",
    "# image_to_train = image_to_train[crop[0][0]:crop[0][1], crop[1][0]:crop[1][1]]\n",
    "# labels_to_train = labels_to_train[crop[0][0]:crop[0][1], crop[1][0]:crop[1][1]]\n",
    "\n",
    "# LOAD ASTRONAUT IMAGE (RGB) AND ANNOTATION\n",
    "image_to_train = skimage.data.astronaut()#[0:504,0:504,:]\n",
    "labels_to_train = plt.imread('images_and_labels/astro_labels_2.tif')[:,:,0]#[0:504,0:504]\n",
    "\n",
    "# LOAD HARDER CELL IMAGE AND ITS LABELS\n",
    "# image_to_train = plt.imread('images_and_labels/00_00016.tiff')\n",
    "# labels_to_train = plt.imread('images_and_labels/00_00016_labels.tiff')[:,:,0]"
   ]
  },
  {
   "attachments": {},
   "cell_type": "markdown",
   "id": "47e31289",
   "metadata": {},
   "source": [
    "Exctract the features using DINOv2 and use them to train a random forest classifier."
   ]
  },
  {
   "cell_type": "code",
   "execution_count": 11,
   "id": "bebe9781",
   "metadata": {},
   "outputs": [
    {
     "name": "stderr",
     "output_type": "stream",
     "text": [
      "Using cache found in C:\\Users\\roman/.cache\\torch\\hub\\facebookresearch_dinov2_main\n"
     ]
    },
    {
     "ename": "RuntimeError",
     "evalue": "Cannot find callable dinov2_vitg14_reg in hubconf",
     "output_type": "error",
     "traceback": [
      "\u001b[1;31m---------------------------------------------------------------------------\u001b[0m",
      "\u001b[1;31mRuntimeError\u001b[0m                              Traceback (most recent call last)",
      "\u001b[1;32md:\\Documents\\Beruf & Ausbildung\\Ausbildung\\22-08 MSc BioInf\\- Research Project\\dino_paint\\dino_paint.ipynb Cell 11\u001b[0m line \u001b[0;36m1\n\u001b[1;32m----> <a href='vscode-notebook-cell:/d%3A/Documents/Beruf%20%26%20Ausbildung/Ausbildung/22-08%20MSc%20BioInf/-%20Research%20Project/dino_paint/dino_paint.ipynb#X13sZmlsZQ%3D%3D?line=0'>1</a>\u001b[0m train \u001b[39m=\u001b[39m train_dino_forest(image_to_train, labels_to_train,\n\u001b[0;32m      <a href='vscode-notebook-cell:/d%3A/Documents/Beruf%20%26%20Ausbildung/Ausbildung/22-08%20MSc%20BioInf/-%20Research%20Project/dino_paint/dino_paint.ipynb#X13sZmlsZQ%3D%3D?line=1'>2</a>\u001b[0m                           crop_to_patch\u001b[39m=\u001b[39;49m\u001b[39mTrue\u001b[39;49;00m, scale\u001b[39m=\u001b[39;49mscale, upscale_order\u001b[39m=\u001b[39;49m\u001b[39m1\u001b[39;49m,\n\u001b[0;32m      <a href='vscode-notebook-cell:/d%3A/Documents/Beruf%20%26%20Ausbildung/Ausbildung/22-08%20MSc%20BioInf/-%20Research%20Project/dino_paint/dino_paint.ipynb#X13sZmlsZQ%3D%3D?line=2'>3</a>\u001b[0m                           dinov2_model\u001b[39m=\u001b[39;49mdinov2_model, vgg16_layers\u001b[39m=\u001b[39;49mvgg16, append_image_as_feature\u001b[39m=\u001b[39;49mimage_as_feature,\n\u001b[0;32m      <a href='vscode-notebook-cell:/d%3A/Documents/Beruf%20%26%20Ausbildung/Ausbildung/22-08%20MSc%20BioInf/-%20Research%20Project/dino_paint/dino_paint.ipynb#X13sZmlsZQ%3D%3D?line=3'>4</a>\u001b[0m                           show_napari\u001b[39m=\u001b[39;49m\u001b[39mFalse\u001b[39;49;00m)\n\u001b[0;32m      <a href='vscode-notebook-cell:/d%3A/Documents/Beruf%20%26%20Ausbildung/Ausbildung/22-08%20MSc%20BioInf/-%20Research%20Project/dino_paint/dino_paint.ipynb#X13sZmlsZQ%3D%3D?line=4'>5</a>\u001b[0m random_forest, image_train, labels_train, features_space_train \u001b[39m=\u001b[39m train\n",
      "File \u001b[1;32md:\\Documents\\Beruf & Ausbildung\\Ausbildung\\22-08 MSc BioInf\\- Research Project\\dino_paint\\dino_paint_utils.py:137\u001b[0m, in \u001b[0;36mtrain_dino_forest\u001b[1;34m(image, labels, crop_to_patch, scale, upscale_order, dinov2_model, vgg16_layers, append_image_as_feature, show_napari)\u001b[0m\n\u001b[0;32m    132\u001b[0m \u001b[39m\u001b[39m\u001b[39m'''\u001b[39;00m\n\u001b[0;32m    133\u001b[0m \u001b[39mTakes an image and a label image, and trains a random forest classifier on the DINOv2 features of the image.\u001b[39;00m\n\u001b[0;32m    134\u001b[0m \u001b[39mReturns the random forest, the image and labels used for training (both scaled to DINOv2's patch size) and the DINOv2 feature space.\u001b[39;00m\n\u001b[0;32m    135\u001b[0m \u001b[39m'''\u001b[39;00m\n\u001b[0;32m    136\u001b[0m image_scaled \u001b[39m=\u001b[39m scale_to_patch(image, crop_to_patch, scale, interpolation_order\u001b[39m=\u001b[39m\u001b[39m1\u001b[39m)\n\u001b[1;32m--> 137\u001b[0m feature_space \u001b[39m=\u001b[39m extract_feature_space(image_scaled, upscale_order, dinov2_model, vgg16_layers, append_image_as_feature)\n\u001b[0;32m    138\u001b[0m \u001b[39m# NOTE: interpolation order must be 0 (nearest) for labels\u001b[39;00m\n\u001b[0;32m    139\u001b[0m labels_scaled \u001b[39m=\u001b[39m scale_to_patch(labels, crop_to_patch, scale, interpolation_order\u001b[39m=\u001b[39m\u001b[39m0\u001b[39m)\n",
      "File \u001b[1;32md:\\Documents\\Beruf & Ausbildung\\Ausbildung\\22-08 MSc BioInf\\- Research Project\\dino_paint\\dino_paint_utils.py:102\u001b[0m, in \u001b[0;36mextract_feature_space\u001b[1;34m(image, upscale_order, dinov2_model, vgg16_layers, append_image_as_feature)\u001b[0m\n\u001b[0;32m    100\u001b[0m     \u001b[39mraise\u001b[39;00m \u001b[39mValueError\u001b[39;00m(\u001b[39m'\u001b[39m\u001b[39mPlease specify a DINOv2 model and/or VGG16 layers to extract features from\u001b[39m\u001b[39m'\u001b[39m)\n\u001b[0;32m    101\u001b[0m \u001b[39melif\u001b[39;00m vgg16_layers \u001b[39mis\u001b[39;00m \u001b[39mNone\u001b[39;00m:\n\u001b[1;32m--> 102\u001b[0m     feature_space \u001b[39m=\u001b[39m extract_dinov2_features(image, upscale_order, dinov2_model)\n\u001b[0;32m    103\u001b[0m \u001b[39melif\u001b[39;00m dinov2_model \u001b[39mis\u001b[39;00m \u001b[39mNone\u001b[39;00m:\n\u001b[0;32m    104\u001b[0m     feature_space \u001b[39m=\u001b[39m extract_vgg16_features(image, vgg16_layers)\n",
      "File \u001b[1;32md:\\Documents\\Beruf & Ausbildung\\Ausbildung\\22-08 MSc BioInf\\- Research Project\\dino_paint\\dino_paint_utils.py:29\u001b[0m, in \u001b[0;36mextract_dinov2_features\u001b[1;34m(image, upscale_order, dinov2_model)\u001b[0m\n\u001b[0;32m     27\u001b[0m dinov2_name \u001b[39m=\u001b[39m models[dinov2_model]\n\u001b[0;32m     28\u001b[0m \u001b[39mif\u001b[39;00m dinov2_name \u001b[39mnot\u001b[39;00m \u001b[39min\u001b[39;00m loaded_models:\n\u001b[1;32m---> 29\u001b[0m     loaded_models[dinov2_name] \u001b[39m=\u001b[39m torch\u001b[39m.\u001b[39;49mhub\u001b[39m.\u001b[39;49mload(\u001b[39m'\u001b[39;49m\u001b[39mfacebookresearch/dinov2\u001b[39;49m\u001b[39m'\u001b[39;49m, dinov2_name, pretrained\u001b[39m=\u001b[39;49m\u001b[39mTrue\u001b[39;49;00m)\n\u001b[0;32m     30\u001b[0m model \u001b[39m=\u001b[39m loaded_models[dinov2_name]\n\u001b[0;32m     31\u001b[0m dinov2_mean, dinov2_sd \u001b[39m=\u001b[39m [\u001b[39m0.485\u001b[39m, \u001b[39m0.456\u001b[39m, \u001b[39m0.406\u001b[39m], [\u001b[39m0.229\u001b[39m, \u001b[39m0.224\u001b[39m, \u001b[39m0.225\u001b[39m]\n",
      "File \u001b[1;32mc:\\Users\\roman\\anaconda3\\envs\\dino_env_2\\lib\\site-packages\\torch\\hub.py:558\u001b[0m, in \u001b[0;36mload\u001b[1;34m(repo_or_dir, model, source, trust_repo, force_reload, verbose, skip_validation, *args, **kwargs)\u001b[0m\n\u001b[0;32m    554\u001b[0m \u001b[39mif\u001b[39;00m source \u001b[39m==\u001b[39m \u001b[39m'\u001b[39m\u001b[39mgithub\u001b[39m\u001b[39m'\u001b[39m:\n\u001b[0;32m    555\u001b[0m     repo_or_dir \u001b[39m=\u001b[39m _get_cache_or_reload(repo_or_dir, force_reload, trust_repo, \u001b[39m\"\u001b[39m\u001b[39mload\u001b[39m\u001b[39m\"\u001b[39m,\n\u001b[0;32m    556\u001b[0m                                        verbose\u001b[39m=\u001b[39mverbose, skip_validation\u001b[39m=\u001b[39mskip_validation)\n\u001b[1;32m--> 558\u001b[0m model \u001b[39m=\u001b[39m _load_local(repo_or_dir, model, \u001b[39m*\u001b[39margs, \u001b[39m*\u001b[39m\u001b[39m*\u001b[39mkwargs)\n\u001b[0;32m    559\u001b[0m \u001b[39mreturn\u001b[39;00m model\n",
      "File \u001b[1;32mc:\\Users\\roman\\anaconda3\\envs\\dino_env_2\\lib\\site-packages\\torch\\hub.py:586\u001b[0m, in \u001b[0;36m_load_local\u001b[1;34m(hubconf_dir, model, *args, **kwargs)\u001b[0m\n\u001b[0;32m    583\u001b[0m     hubconf_path \u001b[39m=\u001b[39m os\u001b[39m.\u001b[39mpath\u001b[39m.\u001b[39mjoin(hubconf_dir, MODULE_HUBCONF)\n\u001b[0;32m    584\u001b[0m     hub_module \u001b[39m=\u001b[39m _import_module(MODULE_HUBCONF, hubconf_path)\n\u001b[1;32m--> 586\u001b[0m     entry \u001b[39m=\u001b[39m _load_entry_from_hubconf(hub_module, model)\n\u001b[0;32m    587\u001b[0m     model \u001b[39m=\u001b[39m entry(\u001b[39m*\u001b[39margs, \u001b[39m*\u001b[39m\u001b[39m*\u001b[39mkwargs)\n\u001b[0;32m    589\u001b[0m \u001b[39mreturn\u001b[39;00m model\n",
      "File \u001b[1;32mc:\\Users\\roman\\anaconda3\\envs\\dino_env_2\\lib\\site-packages\\torch\\hub.py:340\u001b[0m, in \u001b[0;36m_load_entry_from_hubconf\u001b[1;34m(m, model)\u001b[0m\n\u001b[0;32m    337\u001b[0m func \u001b[39m=\u001b[39m _load_attr_from_module(m, model)\n\u001b[0;32m    339\u001b[0m \u001b[39mif\u001b[39;00m func \u001b[39mis\u001b[39;00m \u001b[39mNone\u001b[39;00m \u001b[39mor\u001b[39;00m \u001b[39mnot\u001b[39;00m \u001b[39mcallable\u001b[39m(func):\n\u001b[1;32m--> 340\u001b[0m     \u001b[39mraise\u001b[39;00m \u001b[39mRuntimeError\u001b[39;00m(\u001b[39m'\u001b[39m\u001b[39mCannot find callable \u001b[39m\u001b[39m{}\u001b[39;00m\u001b[39m in hubconf\u001b[39m\u001b[39m'\u001b[39m\u001b[39m.\u001b[39mformat(model))\n\u001b[0;32m    342\u001b[0m \u001b[39mreturn\u001b[39;00m func\n",
      "\u001b[1;31mRuntimeError\u001b[0m: Cannot find callable dinov2_vitg14_reg in hubconf"
     ]
    }
   ],
   "source": [
    "train = train_dino_forest(image_to_train, labels_to_train,\n",
    "                          crop_to_patch=True, scale=scale, upscale_order=1,\n",
    "                          dinov2_model=dinov2_model, vgg16_layers=vgg16, append_image_as_feature=image_as_feature,\n",
    "                          show_napari=False)\n",
    "random_forest, image_train, labels_train, features_space_train = train"
   ]
  },
  {
   "attachments": {},
   "cell_type": "markdown",
   "id": "d8625bc9",
   "metadata": {},
   "source": [
    "## Predict"
   ]
  },
  {
   "attachments": {},
   "cell_type": "markdown",
   "id": "8e01ea6d",
   "metadata": {},
   "source": [
    "Load an image to predict the labels for using the trained model above."
   ]
  },
  {
   "cell_type": "code",
   "execution_count": null,
   "id": "258e862b",
   "metadata": {},
   "outputs": [],
   "source": [
    "# image_to_pred = skimage.data.cells3d()\n",
    "# image_to_pred = image_to_pred[40, 1][:,125:251]\n",
    "# ground_truth = plt.imread('images_and_labels/cells_cross_ground_truth.tif')[:,:,0]\n",
    "\n",
    "# crop = ((20,248), (50,278))\n",
    "# crop = ((20,20+224), (0,224))\n",
    "# image_to_pred = image_to_pred[crop[0][0]:crop[0][1], crop[1][0]:crop[1][1]]\n",
    "\n",
    "# LOAD AN IMAGE TO PREDICT BASED ON THE CLASSIFIER TRAINED ON THE ASTRONAUT IMAGE\n",
    "image_to_pred = skimage.data.camera()\n",
    "ground_truth = plt.imread('images_and_labels/cam_ground_truth.tif')[:,:,0]\n",
    "\n",
    "# image_to_pred = skimage.data.cat()\n",
    "# image_to_pred = skimage.data.horse().astype(np.int32)\n",
    "# image_to_pred = skimage.data.binary_blobs().astype(np.int32)\n",
    "# image_to_pred = skimage.data.coins()\n",
    "# ground_truth = None\n"
   ]
  },
  {
   "attachments": {},
   "cell_type": "markdown",
   "id": "9a2d834a",
   "metadata": {},
   "source": [
    "Exctract the features and use them together with the trained classifier to make a prediciton for the labels."
   ]
  },
  {
   "cell_type": "code",
   "execution_count": null,
   "id": "8a7de01f",
   "metadata": {},
   "outputs": [],
   "source": [
    "pred = predict_dino_forest(image_to_pred, random_forest, ground_truth=ground_truth,\n",
    "                           crop_to_patch=True, scale=scale, upscale_order=1,\n",
    "                           dinov2_model=dinov2_model, vgg16_layers=vgg16, append_image_as_feature=image_as_feature,\n",
    "                           show_napari=True)\n",
    "predicted_labels, image_pred, features_space_pred, acc = pred"
   ]
  },
  {
   "attachments": {},
   "cell_type": "markdown",
   "id": "5a9399b3",
   "metadata": {},
   "source": [
    "## Selfpredict"
   ]
  },
  {
   "attachments": {},
   "cell_type": "markdown",
   "id": "50f4246b",
   "metadata": {},
   "source": [
    "We can also directly do a training and prediction on the same image (extracting the features only once)."
   ]
  },
  {
   "cell_type": "code",
   "execution_count": 7,
   "id": "c64f91e1",
   "metadata": {},
   "outputs": [
    {
     "name": "stderr",
     "output_type": "stream",
     "text": [
      "Using cache found in C:\\Users\\roman/.cache\\torch\\hub\\facebookresearch_dinov2_main\n"
     ]
    },
    {
     "ename": "RuntimeError",
     "evalue": "Cannot find callable dinov2_vitg14_reg in hubconf",
     "output_type": "error",
     "traceback": [
      "\u001b[1;31m---------------------------------------------------------------------------\u001b[0m",
      "\u001b[1;31mRuntimeError\u001b[0m                              Traceback (most recent call last)",
      "\u001b[1;32md:\\Documents\\Beruf & Ausbildung\\Ausbildung\\22-08 MSc BioInf\\- Research Project\\dino_paint\\dino_paint.ipynb Cell 19\u001b[0m line \u001b[0;36m8\n\u001b[0;32m      <a href='vscode-notebook-cell:/d%3A/Documents/Beruf%20%26%20Ausbildung/Ausbildung/22-08%20MSc%20BioInf/-%20Research%20Project/dino_paint/dino_paint.ipynb#X24sZmlsZQ%3D%3D?line=4'>5</a>\u001b[0m self_pred_labels \u001b[39m=\u001b[39m labels_to_train\n\u001b[0;32m      <a href='vscode-notebook-cell:/d%3A/Documents/Beruf%20%26%20Ausbildung/Ausbildung/22-08%20MSc%20BioInf/-%20Research%20Project/dino_paint/dino_paint.ipynb#X24sZmlsZQ%3D%3D?line=5'>6</a>\u001b[0m ground_truth \u001b[39m=\u001b[39m \u001b[39mNone\u001b[39;00m\n\u001b[1;32m----> <a href='vscode-notebook-cell:/d%3A/Documents/Beruf%20%26%20Ausbildung/Ausbildung/22-08%20MSc%20BioInf/-%20Research%20Project/dino_paint/dino_paint.ipynb#X24sZmlsZQ%3D%3D?line=7'>8</a>\u001b[0m self_pred \u001b[39m=\u001b[39m selfpredict_dino_forest(self_pred_image, self_pred_labels, ground_truth,\n\u001b[0;32m      <a href='vscode-notebook-cell:/d%3A/Documents/Beruf%20%26%20Ausbildung/Ausbildung/22-08%20MSc%20BioInf/-%20Research%20Project/dino_paint/dino_paint.ipynb#X24sZmlsZQ%3D%3D?line=8'>9</a>\u001b[0m                                     crop_to_patch\u001b[39m=\u001b[39;49m\u001b[39mTrue\u001b[39;49;00m, scale\u001b[39m=\u001b[39;49mscale, upscale_order\u001b[39m=\u001b[39;49m\u001b[39m1\u001b[39;49m,\n\u001b[0;32m     <a href='vscode-notebook-cell:/d%3A/Documents/Beruf%20%26%20Ausbildung/Ausbildung/22-08%20MSc%20BioInf/-%20Research%20Project/dino_paint/dino_paint.ipynb#X24sZmlsZQ%3D%3D?line=9'>10</a>\u001b[0m                                     dinov2_model\u001b[39m=\u001b[39;49mdinov2_model, vgg16_layers\u001b[39m=\u001b[39;49mvgg16, append_image_as_feature\u001b[39m=\u001b[39;49mimage_as_feature,\n\u001b[0;32m     <a href='vscode-notebook-cell:/d%3A/Documents/Beruf%20%26%20Ausbildung/Ausbildung/22-08%20MSc%20BioInf/-%20Research%20Project/dino_paint/dino_paint.ipynb#X24sZmlsZQ%3D%3D?line=10'>11</a>\u001b[0m                                     show_napari\u001b[39m=\u001b[39;49m\u001b[39mTrue\u001b[39;49;00m)\n\u001b[0;32m     <a href='vscode-notebook-cell:/d%3A/Documents/Beruf%20%26%20Ausbildung/Ausbildung/22-08%20MSc%20BioInf/-%20Research%20Project/dino_paint/dino_paint.ipynb#X24sZmlsZQ%3D%3D?line=11'>12</a>\u001b[0m predicted_labels, image_scaled, labels_scaled, feature_space, acc \u001b[39m=\u001b[39m self_pred\n",
      "File \u001b[1;32md:\\Documents\\Beruf & Ausbildung\\Ausbildung\\22-08 MSc BioInf\\- Research Project\\dino_paint\\dino_paint_utils.py:178\u001b[0m, in \u001b[0;36mselfpredict_dino_forest\u001b[1;34m(image, labels, ground_truth, crop_to_patch, scale, upscale_order, dinov2_model, vgg16_layers, append_image_as_feature, show_napari)\u001b[0m\n\u001b[0;32m    172\u001b[0m \u001b[39mdef\u001b[39;00m \u001b[39mselfpredict_dino_forest\u001b[39m(image, labels, ground_truth\u001b[39m=\u001b[39m\u001b[39mNone\u001b[39;00m, crop_to_patch\u001b[39m=\u001b[39m\u001b[39mTrue\u001b[39;00m, scale\u001b[39m=\u001b[39m\u001b[39m1\u001b[39m, upscale_order\u001b[39m=\u001b[39m\u001b[39m1\u001b[39m, dinov2_model\u001b[39m=\u001b[39m\u001b[39m'\u001b[39m\u001b[39ms\u001b[39m\u001b[39m'\u001b[39m, vgg16_layers\u001b[39m=\u001b[39m\u001b[39mNone\u001b[39;00m, append_image_as_feature\u001b[39m=\u001b[39m\u001b[39mFalse\u001b[39;00m, show_napari\u001b[39m=\u001b[39m\u001b[39mFalse\u001b[39;00m):\n\u001b[0;32m    173\u001b[0m \u001b[39m    \u001b[39m\u001b[39m'''\u001b[39;00m\n\u001b[0;32m    174\u001b[0m \u001b[39m    Takes an image and a label image, and trains a random forest classifier on the DINOv2 features of the image.\u001b[39;00m\n\u001b[0;32m    175\u001b[0m \u001b[39m    Then uses the trained random forest to predict labels for the image itself.\u001b[39;00m\n\u001b[0;32m    176\u001b[0m \u001b[39m    Returns the predicted labels, the image and labels used for training (both scaled to DINOv2's patch size) and the DINOv2 feature space.\u001b[39;00m\n\u001b[0;32m    177\u001b[0m \u001b[39m    '''\u001b[39;00m\n\u001b[1;32m--> 178\u001b[0m     train \u001b[39m=\u001b[39m train_dino_forest(image, labels, crop_to_patch, scale, upscale_order, dinov2_model, vgg16_layers, append_image_as_feature, show_napari\u001b[39m=\u001b[39;49m\u001b[39mFalse\u001b[39;49;00m)\n\u001b[0;32m    179\u001b[0m     random_forest, image_scaled, labels_scaled, feature_space \u001b[39m=\u001b[39m train\n\u001b[0;32m    180\u001b[0m     predicted_labels \u001b[39m=\u001b[39m predict_space_to_image(feature_space, random_forest)\n",
      "File \u001b[1;32md:\\Documents\\Beruf & Ausbildung\\Ausbildung\\22-08 MSc BioInf\\- Research Project\\dino_paint\\dino_paint_utils.py:137\u001b[0m, in \u001b[0;36mtrain_dino_forest\u001b[1;34m(image, labels, crop_to_patch, scale, upscale_order, dinov2_model, vgg16_layers, append_image_as_feature, show_napari)\u001b[0m\n\u001b[0;32m    132\u001b[0m \u001b[39m\u001b[39m\u001b[39m'''\u001b[39;00m\n\u001b[0;32m    133\u001b[0m \u001b[39mTakes an image and a label image, and trains a random forest classifier on the DINOv2 features of the image.\u001b[39;00m\n\u001b[0;32m    134\u001b[0m \u001b[39mReturns the random forest, the image and labels used for training (both scaled to DINOv2's patch size) and the DINOv2 feature space.\u001b[39;00m\n\u001b[0;32m    135\u001b[0m \u001b[39m'''\u001b[39;00m\n\u001b[0;32m    136\u001b[0m image_scaled \u001b[39m=\u001b[39m scale_to_patch(image, crop_to_patch, scale, interpolation_order\u001b[39m=\u001b[39m\u001b[39m1\u001b[39m)\n\u001b[1;32m--> 137\u001b[0m feature_space \u001b[39m=\u001b[39m extract_feature_space(image_scaled, upscale_order, dinov2_model, vgg16_layers, append_image_as_feature)\n\u001b[0;32m    138\u001b[0m \u001b[39m# NOTE: interpolation order must be 0 (nearest) for labels\u001b[39;00m\n\u001b[0;32m    139\u001b[0m labels_scaled \u001b[39m=\u001b[39m scale_to_patch(labels, crop_to_patch, scale, interpolation_order\u001b[39m=\u001b[39m\u001b[39m0\u001b[39m)\n",
      "File \u001b[1;32md:\\Documents\\Beruf & Ausbildung\\Ausbildung\\22-08 MSc BioInf\\- Research Project\\dino_paint\\dino_paint_utils.py:102\u001b[0m, in \u001b[0;36mextract_feature_space\u001b[1;34m(image, upscale_order, dinov2_model, vgg16_layers, append_image_as_feature)\u001b[0m\n\u001b[0;32m    100\u001b[0m     \u001b[39mraise\u001b[39;00m \u001b[39mValueError\u001b[39;00m(\u001b[39m'\u001b[39m\u001b[39mPlease specify a DINOv2 model and/or VGG16 layers to extract features from\u001b[39m\u001b[39m'\u001b[39m)\n\u001b[0;32m    101\u001b[0m \u001b[39melif\u001b[39;00m vgg16_layers \u001b[39mis\u001b[39;00m \u001b[39mNone\u001b[39;00m:\n\u001b[1;32m--> 102\u001b[0m     feature_space \u001b[39m=\u001b[39m extract_dinov2_features(image, upscale_order, dinov2_model)\n\u001b[0;32m    103\u001b[0m \u001b[39melif\u001b[39;00m dinov2_model \u001b[39mis\u001b[39;00m \u001b[39mNone\u001b[39;00m:\n\u001b[0;32m    104\u001b[0m     feature_space \u001b[39m=\u001b[39m extract_vgg16_features(image, vgg16_layers)\n",
      "File \u001b[1;32md:\\Documents\\Beruf & Ausbildung\\Ausbildung\\22-08 MSc BioInf\\- Research Project\\dino_paint\\dino_paint_utils.py:29\u001b[0m, in \u001b[0;36mextract_dinov2_features\u001b[1;34m(image, upscale_order, dinov2_model)\u001b[0m\n\u001b[0;32m     27\u001b[0m dinov2_name \u001b[39m=\u001b[39m models[dinov2_model]\n\u001b[0;32m     28\u001b[0m \u001b[39mif\u001b[39;00m dinov2_name \u001b[39mnot\u001b[39;00m \u001b[39min\u001b[39;00m loaded_models:\n\u001b[1;32m---> 29\u001b[0m     loaded_models[dinov2_name] \u001b[39m=\u001b[39m torch\u001b[39m.\u001b[39;49mhub\u001b[39m.\u001b[39;49mload(\u001b[39m'\u001b[39;49m\u001b[39mfacebookresearch/dinov2\u001b[39;49m\u001b[39m'\u001b[39;49m, dinov2_name, pretrained\u001b[39m=\u001b[39;49m\u001b[39mTrue\u001b[39;49;00m)\n\u001b[0;32m     30\u001b[0m model \u001b[39m=\u001b[39m loaded_models[dinov2_name]\n\u001b[0;32m     31\u001b[0m dinov2_mean, dinov2_sd \u001b[39m=\u001b[39m [\u001b[39m0.485\u001b[39m, \u001b[39m0.456\u001b[39m, \u001b[39m0.406\u001b[39m], [\u001b[39m0.229\u001b[39m, \u001b[39m0.224\u001b[39m, \u001b[39m0.225\u001b[39m]\n",
      "File \u001b[1;32mc:\\Users\\roman\\anaconda3\\envs\\dino_env_2\\lib\\site-packages\\torch\\hub.py:558\u001b[0m, in \u001b[0;36mload\u001b[1;34m(repo_or_dir, model, source, trust_repo, force_reload, verbose, skip_validation, *args, **kwargs)\u001b[0m\n\u001b[0;32m    554\u001b[0m \u001b[39mif\u001b[39;00m source \u001b[39m==\u001b[39m \u001b[39m'\u001b[39m\u001b[39mgithub\u001b[39m\u001b[39m'\u001b[39m:\n\u001b[0;32m    555\u001b[0m     repo_or_dir \u001b[39m=\u001b[39m _get_cache_or_reload(repo_or_dir, force_reload, trust_repo, \u001b[39m\"\u001b[39m\u001b[39mload\u001b[39m\u001b[39m\"\u001b[39m,\n\u001b[0;32m    556\u001b[0m                                        verbose\u001b[39m=\u001b[39mverbose, skip_validation\u001b[39m=\u001b[39mskip_validation)\n\u001b[1;32m--> 558\u001b[0m model \u001b[39m=\u001b[39m _load_local(repo_or_dir, model, \u001b[39m*\u001b[39margs, \u001b[39m*\u001b[39m\u001b[39m*\u001b[39mkwargs)\n\u001b[0;32m    559\u001b[0m \u001b[39mreturn\u001b[39;00m model\n",
      "File \u001b[1;32mc:\\Users\\roman\\anaconda3\\envs\\dino_env_2\\lib\\site-packages\\torch\\hub.py:586\u001b[0m, in \u001b[0;36m_load_local\u001b[1;34m(hubconf_dir, model, *args, **kwargs)\u001b[0m\n\u001b[0;32m    583\u001b[0m     hubconf_path \u001b[39m=\u001b[39m os\u001b[39m.\u001b[39mpath\u001b[39m.\u001b[39mjoin(hubconf_dir, MODULE_HUBCONF)\n\u001b[0;32m    584\u001b[0m     hub_module \u001b[39m=\u001b[39m _import_module(MODULE_HUBCONF, hubconf_path)\n\u001b[1;32m--> 586\u001b[0m     entry \u001b[39m=\u001b[39m _load_entry_from_hubconf(hub_module, model)\n\u001b[0;32m    587\u001b[0m     model \u001b[39m=\u001b[39m entry(\u001b[39m*\u001b[39margs, \u001b[39m*\u001b[39m\u001b[39m*\u001b[39mkwargs)\n\u001b[0;32m    589\u001b[0m \u001b[39mreturn\u001b[39;00m model\n",
      "File \u001b[1;32mc:\\Users\\roman\\anaconda3\\envs\\dino_env_2\\lib\\site-packages\\torch\\hub.py:340\u001b[0m, in \u001b[0;36m_load_entry_from_hubconf\u001b[1;34m(m, model)\u001b[0m\n\u001b[0;32m    337\u001b[0m func \u001b[39m=\u001b[39m _load_attr_from_module(m, model)\n\u001b[0;32m    339\u001b[0m \u001b[39mif\u001b[39;00m func \u001b[39mis\u001b[39;00m \u001b[39mNone\u001b[39;00m \u001b[39mor\u001b[39;00m \u001b[39mnot\u001b[39;00m \u001b[39mcallable\u001b[39m(func):\n\u001b[1;32m--> 340\u001b[0m     \u001b[39mraise\u001b[39;00m \u001b[39mRuntimeError\u001b[39;00m(\u001b[39m'\u001b[39m\u001b[39mCannot find callable \u001b[39m\u001b[39m{}\u001b[39;00m\u001b[39m in hubconf\u001b[39m\u001b[39m'\u001b[39m\u001b[39m.\u001b[39mformat(model))\n\u001b[0;32m    342\u001b[0m \u001b[39mreturn\u001b[39;00m func\n",
      "\u001b[1;31mRuntimeError\u001b[0m: Cannot find callable dinov2_vitg14_reg in hubconf"
     ]
    }
   ],
   "source": [
    "# self_pred_image = skimage.data.astronaut()#[0:504,0:504,:]\n",
    "# self_pred_labels = plt.imread('images_and_labels/astro_labels_2.tif')[:,:,0]#[0:504,0:504]\n",
    "# ground_truth = plt.imread('images_and_labels/astro_ground_truth.tif')[:,:,0]\n",
    "self_pred_image = image_to_train\n",
    "self_pred_labels = labels_to_train\n",
    "ground_truth = None\n",
    "\n",
    "self_pred = selfpredict_dino_forest(self_pred_image, self_pred_labels, ground_truth,\n",
    "                                    crop_to_patch=True, scale=scale, upscale_order=1,\n",
    "                                    dinov2_model=dinov2_model, vgg16_layers=vgg16, append_image_as_feature=image_as_feature,\n",
    "                                    show_napari=True)\n",
    "predicted_labels, image_scaled, labels_scaled, feature_space, acc = self_pred"
   ]
  },
  {
   "attachments": {},
   "cell_type": "markdown",
   "id": "49dc58fd",
   "metadata": {},
   "source": [
    "## Tests against ground truth"
   ]
  },
  {
   "cell_type": "code",
   "execution_count": null,
   "id": "e225ecbc",
   "metadata": {},
   "outputs": [],
   "source": [
    "image_to_train = skimage.data.astronaut()#[0:504,0:504,:]\n",
    "labels_to_train = plt.imread('images_and_labels/astro_labels_2.tif')[:,:,0]#[0:504,0:504]\n",
    "ground_truth = plt.imread('images_and_labels/astro_ground_truth.tif')[:,:,0]\n",
    "image_to_pred = None\n",
    "\n",
    "# viewer = napari.Viewer()\n",
    "# viewer.add_image(image_to_train)\n",
    "# viewer.add_labels(labels_to_train)\n",
    "# viewer_2 = napari.Viewer()\n",
    "# viewer_2.add_image(image_to_pred)\n",
    "# viewer_2.add_labels(ground_truth)\n",
    "\n",
    "all_vggs = [0,2,5,7,10,12,14,17,19,21,24,26,28]\n",
    "single_vggs = [[i] for i in all_vggs]\n",
    "consecutive_vggs = [all_vggs[:s] for s in range(1,len(all_vggs))]\n",
    "dual_vggs = [[all_vggs[i], all_vggs[j]] for i in range(len(all_vggs)) for j in range(i+1, len(all_vggs))]\n",
    "\n",
    "dinos = [None, 's']#, 'b']\n",
    "vggs = [None, [24,26,28], all_vggs]#[0], [10], [17], [24], [0, 10, 17, 24]]#\n",
    "im_feats = [False]#, True]\n",
    "scales = [1]#, 2]"
   ]
  },
  {
   "cell_type": "code",
   "execution_count": null,
   "id": "a6851f03",
   "metadata": {},
   "outputs": [],
   "source": [
    "test = test_dino_forest(image_to_train, labels_to_train, ground_truth, image_to_pred,\n",
    "                        scales=scales, dinos=dinos, vggs=vggs, im_feats=im_feats,\n",
    "                        print_avg=True, print_max=True)\n",
    "accs, avg_accs, max_acc = test"
   ]
  }
 ],
 "metadata": {
  "kernelspec": {
   "display_name": "Python 3 (ipykernel)",
   "language": "python",
   "name": "python3"
  },
  "language_info": {
   "codemirror_mode": {
    "name": "ipython",
    "version": 3
   },
   "file_extension": ".py",
   "mimetype": "text/x-python",
   "name": "python",
   "nbconvert_exporter": "python",
   "pygments_lexer": "ipython3",
   "version": "3.9.17"
  }
 },
 "nbformat": 4,
 "nbformat_minor": 5
}
