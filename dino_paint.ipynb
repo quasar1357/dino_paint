{
 "cells": [
  {
   "attachments": {},
   "cell_type": "markdown",
   "id": "f9282643-c6fa-4806-8a91-0156710c8664",
   "metadata": {},
   "source": [
    "# Semantic Segmentation with convpaint and DINOv2\n",
    "<a target=\"_blank\" href=\"https://colab.research.google.com/github/quasar1357/dino_paint/blob/main/dino_paint.ipynb?hl=de\"><img src=\"https://colab.research.google.com/assets/colab-badge.svg\" alt=\"Open In Colab\"/></a>\n",
    "\n",
    "This notebooks demonstrates how to run a semantic segmentation on an image using DINOv2 for feature extraction and a random forest algorithm for classification. It is based on the notebook provided by convpaint.\n"
   ]
  },
  {
   "attachments": {},
   "cell_type": "markdown",
   "id": "c9a1c36c",
   "metadata": {},
   "source": [
    "## Installs and Imports"
   ]
  },
  {
   "cell_type": "code",
   "execution_count": null,
   "id": "9c32d0f2",
   "metadata": {},
   "outputs": [],
   "source": [
    "if False:\n",
    "    !pip install -r https://raw.githubusercontent.com/quasar1357/dino_paint/main/requirements.txt"
   ]
  },
  {
   "cell_type": "code",
   "execution_count": null,
   "id": "e314538e-f42d-42d0-89a9-4ddd4588c483",
   "metadata": {},
   "outputs": [],
   "source": [
    "%load_ext autoreload\n",
    "%autoreload 2\n",
    "\n",
    "import numpy as np\n",
    "import pandas as pd\n",
    "import napari\n",
    "from matplotlib import pyplot as plt\n",
    "import skimage\n",
    "from dino_paint_utils import (train_dino_forest,\n",
    "                              predict_dino_forest,\n",
    "                              selfpredict_dino_forest,\n",
    "                              test_dino_forest)\n",
    "\n",
    "show_napari = True"
   ]
  },
  {
   "attachments": {},
   "cell_type": "markdown",
   "id": "1570ce97",
   "metadata": {},
   "source": [
    "## Choose the model"
   ]
  },
  {
   "attachments": {},
   "cell_type": "markdown",
   "id": "6f82e4b3",
   "metadata": {},
   "source": [
    "1) Choose the **DINOv2 model** to be used (assign None to not use DINOv2):\n",
    "\n",
    "|key | model| features\n",
    "|---|---|---|\n",
    "|'s' | dinov2_vits14| 384|\n",
    "|'b' | dinov2_vitb14| 768|\n",
    "|'l' | dinov2_vitl14| 1024|\n",
    "|'g' | dinov2_vitg14| 1536|\n",
    "|+ '_r' | *base_model*_reg (not supported yet)| add registers|\n",
    "\n",
    "2) Choose the **layers of DINOv2** to used features (give a list of indices 0-11); each layer has the number of features specific for the model as listed in the table above.\n",
    "\n",
    "3) Choose the **extra pads** used before feature extraction with DINOv2, leading to a shift of the patches used in the feature extraction.\n",
    "\n",
    "4) Choose the **layers of VGG16** to be attatched as additional features (give a list of indices; only use Conv2d layers; assign None to not use VGG16):\n",
    "\n",
    "|index|layer|\n",
    "|---|---|\n",
    "|**0**|**Conv2d3, 64, kernel_size=3, stride=1, padding=1**|\n",
    "|1|ReLUinplace=True|\n",
    "|**2**|**Conv2d64, 64, kernel_size=3, stride=1, padding=1**|\n",
    "|3|ReLUinplace=True|\n",
    "|4|MaxPool2dkernel_size=2, stride=2, padding=0, dilation=1, ceil_mode=False|\n",
    "|**5**|**Conv2d64, 128, kernel_size=3, stride=1, padding=1**|\n",
    "|6|ReLUinplace=True|\n",
    "|**7**|**Conv2d128, 128, kernel_size=3, stride=1, padding=1**|\n",
    "|8|ReLUinplace=True|\n",
    "|9|MaxPool2dkernel_size=2, stride=2, padding=0, dilation=1, ceil_mode=False|\n",
    "|**10**|**Conv2d128, 256, kernel_size=3, stride=1, padding=1**|\n",
    "|11|ReLUinplace=True|\n",
    "|**12**|**Conv2d256, 256, kernel_size=3, stride=1, padding=1**|\n",
    "|13|ReLUinplace=True|\n",
    "|**14**|**Conv2d256, 256, kernel_size=3, stride=1, padding=1**|\n",
    "|15|ReLUinplace=True|\n",
    "|16|MaxPool2dkernel_size=2, stride=2, padding=0, dilation=1, ceil_mode=False|\n",
    "|**17**|**Conv2d256, 512, kernel_size=3, stride=1, padding=1**|\n",
    "|18|ReLUinplace=True|\n",
    "|**19**|**Conv2d512, 512, kernel_size=3, stride=1, padding=1**|\n",
    "|20|ReLUinplace=True|\n",
    "|**21**|**Conv2d512, 512, kernel_size=3, stride=1, padding=1**|\n",
    "|22|ReLUinplace=True|\n",
    "|23|MaxPool2dkernel_size=2, stride=2, padding=0, dilation=1, ceil_mode=False|\n",
    "|**24**|**Conv2d512, 512, kernel_size=3, stride=1, padding=1**|\n",
    "|25|ReLUinplace=True|\n",
    "|**26**|**Conv2d512, 512, kernel_size=3, stride=1, padding=1**|\n",
    "|27|ReLUinplace=True|\n",
    "|**28**|**Conv2d512, 512, kernel_size=3, stride=1, padding=1**|\n",
    "|29|ReLUinplace=True|\n",
    "|30|MaxPool2dkernel_size=2, stride=2, padding=0, dilation=1, ceil_mode=False|\n",
    "\n",
    "5) Choose if the **image itself** (3 rgb channels) shall be added as features.\n",
    "\n",
    "6) Choose the **scale factor combinations** to use, as a tuple (DINOv2_scales, VGG16_scales), whereas DINOv2_scales and VGG16_scales each is a list of scales to use for the respective model.\n",
    "\n"
   ]
  },
  {
   "cell_type": "code",
   "execution_count": null,
   "id": "80e4c999",
   "metadata": {},
   "outputs": [],
   "source": [
    "dinov2_model = 's'\n",
    "dinov2_layers = () #[8,9,10,11]\n",
    "extra_pads= () #[2,4,6,8,10,12]\n",
    "vgg16 = None# [0,2,5,7,10,12,14,17,19,21,24,26,28] #None #[0]\n",
    "image_as_feature = False #True\n",
    "scales = {\"DINOv2\": (), #[1.0, 1.32, 1.73, 2.28, 3.0][:1],\n",
    "          \"VGG16\": ()} #(1,2)}\n",
    "\n",
    "upscale_order = 1\n",
    "pad_mode = 'reflect'"
   ]
  },
  {
   "cell_type": "markdown",
   "id": "9b6e91f0",
   "metadata": {},
   "source": [
    "## Online loading & displaying"
   ]
  },
  {
   "cell_type": "markdown",
   "id": "f74c79aa",
   "metadata": {},
   "source": [
    "Define a function for loading images from url."
   ]
  },
  {
   "cell_type": "code",
   "execution_count": null,
   "id": "7415cec4",
   "metadata": {},
   "outputs": [],
   "source": [
    "import PIL\n",
    "import urllib\n",
    "\n",
    "def load_url_to_array(url, from_github=False):\n",
    "    return np.array(PIL.Image.open(urllib.request.urlopen(['', 'https://github.com/quasar1357/dino_paint/raw/main/images_and_labels/'][from_github] + url)))"
   ]
  },
  {
   "cell_type": "markdown",
   "id": "9a2c61f0",
   "metadata": {},
   "source": [
    "Disable showing results in napari if working online (in colab), since it is not supported."
   ]
  },
  {
   "cell_type": "code",
   "execution_count": null,
   "id": "c6e2ddda",
   "metadata": {},
   "outputs": [],
   "source": [
    "show_napari = False"
   ]
  },
  {
   "attachments": {},
   "cell_type": "markdown",
   "id": "36382298",
   "metadata": {},
   "source": [
    "## Train"
   ]
  },
  {
   "attachments": {},
   "cell_type": "markdown",
   "id": "3ea22d4c",
   "metadata": {},
   "source": [
    "Load an image and its annotation/labels to train the model on."
   ]
  },
  {
   "cell_type": "code",
   "execution_count": null,
   "id": "7def2e14",
   "metadata": {},
   "outputs": [],
   "source": [
    "from napari_convpaint.convpaint_sample import create_annotation_cell3d\n",
    "image_to_train = skimage.data.cells3d()[30, 1]\n",
    "labels_to_train = create_annotation_cell3d()[0][0]\n",
    "image_to_train = image_to_train[:, :126]\n",
    "labels_to_train = labels_to_train[:, :126]\n",
    "\n",
    "# LOAD ASTRONAUT IMAGE (RGB) AND ANNOTATION\n",
    "# image_to_train = skimage.data.astronaut()#[0:504,0:504,:]\n",
    "# labels_to_train = load_url_to_array('astro_labels.tif', True)#[0:504,0:504]\n",
    "\n",
    "# LOAD HARDER CELL IMAGE AND ITS LABELS\n",
    "# image_to_train = load_url_to_array('00_00016.tiff', True)\n",
    "# labels_to_train = load_url_to_array('00_00016_labels.tiff', True)"
   ]
  },
  {
   "attachments": {},
   "cell_type": "markdown",
   "id": "47e31289",
   "metadata": {},
   "source": [
    "Exctract the features using DINOv2 and/or VGG16 and use them to train a random forest classifier."
   ]
  },
  {
   "cell_type": "code",
   "execution_count": null,
   "id": "bebe9781",
   "metadata": {},
   "outputs": [],
   "source": [
    "train = train_dino_forest(image_to_train, labels_to_train,\n",
    "                          upscale_order=upscale_order, pad_mode=pad_mode, extra_pads=extra_pads, scales=scales,\n",
    "                          dinov2_model=dinov2_model, dinov2_layers=dinov2_layers, vgg16_layers=vgg16, append_image_as_feature=image_as_feature,\n",
    "                          show_napari=False)\n",
    "random_forest, image_train, labels_train, feature_space_train = train"
   ]
  },
  {
   "attachments": {},
   "cell_type": "markdown",
   "id": "d8625bc9",
   "metadata": {},
   "source": [
    "## Predict"
   ]
  },
  {
   "attachments": {},
   "cell_type": "markdown",
   "id": "8e01ea6d",
   "metadata": {},
   "source": [
    "Load an image to predict the labels for using the trained model above."
   ]
  },
  {
   "cell_type": "code",
   "execution_count": null,
   "id": "258e862b",
   "metadata": {},
   "outputs": [],
   "source": [
    "image_to_pred = skimage.data.cells3d()\n",
    "image_to_pred = image_to_pred[40, 1][:,125:251]\n",
    "ground_truth = load_url_to_array('cells_cross_ground_truth.tif', True)\n",
    "\n",
    "# LOAD AN IMAGE TO PREDICT BASED ON THE CLASSIFIER TRAINED ON THE ASTRONAUT IMAGE\n",
    "# image_to_pred = skimage.data.camera()\n",
    "# ground_truth = load_url_to_array('cam_ground_truth.tif', True)\n",
    "# image_to_pred = skimage.data.cat()\n",
    "# image_to_pred = skimage.data.horse().astype(np.int32)\n",
    "# ground_truth = None"
   ]
  },
  {
   "attachments": {},
   "cell_type": "markdown",
   "id": "9a2d834a",
   "metadata": {},
   "source": [
    "Exctract the features and use them together with the trained classifier to make a prediciton for the labels."
   ]
  },
  {
   "cell_type": "code",
   "execution_count": null,
   "id": "8a7de01f",
   "metadata": {},
   "outputs": [],
   "source": [
    "pred = predict_dino_forest(image_to_pred, random_forest, ground_truth=ground_truth,\n",
    "                           upscale_order=upscale_order, pad_mode=pad_mode, extra_pads=extra_pads, scales=scales,\n",
    "                           dinov2_model=dinov2_model, dinov2_layers=dinov2_layers, vgg16_layers=vgg16, append_image_as_feature=image_as_feature,\n",
    "                           show_napari=show_napari)\n",
    "predicted_labels, image_pred, feature_space_pred, acc = pred"
   ]
  },
  {
   "cell_type": "markdown",
   "id": "8da18956",
   "metadata": {},
   "source": [
    "If can't show in napari, show using matplotlib (excluding the feature space)."
   ]
  },
  {
   "cell_type": "code",
   "execution_count": null,
   "id": "48a46851",
   "metadata": {},
   "outputs": [],
   "source": [
    "if not show_napari:\n",
    "    ax = plt.subplots(1, 2)[1]\n",
    "    ax[0].imshow(predicted_labels)\n",
    "    ax[0].axis('off')\n",
    "    ax[0].set_title('Predicted labels')\n",
    "\n",
    "    ax[1].imshow(image_pred)\n",
    "    ax[1].axis('off')\n",
    "    ax[1].set_title('Image')\n",
    "\n",
    "    plt.show()"
   ]
  },
  {
   "attachments": {},
   "cell_type": "markdown",
   "id": "5a9399b3",
   "metadata": {},
   "source": [
    "## Selfpredict"
   ]
  },
  {
   "attachments": {},
   "cell_type": "markdown",
   "id": "50f4246b",
   "metadata": {},
   "source": [
    "We can also directly do a training and prediction on the same image (extracting the features only once)."
   ]
  },
  {
   "cell_type": "code",
   "execution_count": null,
   "id": "c64f91e1",
   "metadata": {},
   "outputs": [],
   "source": [
    "self_pred_image = skimage.data.astronaut()#[0:504,0:504,:]\n",
    "self_pred_labels = load_url_to_array('astro_labels.tif', True)#[0:504,0:504]\n",
    "ground_truth = load_url_to_array('astro_ground_truth.tif', True)#[0:504,0:504]\n",
    "\n",
    "# self_pred_image = np.array(PIL.Image.open(\"images_and_labels/dogs.jpg\"))\n",
    "# self_pred_labels = np.array(PIL.Image.open(\"images_and_labels/dogs_labels.tif\"))\n",
    "# ground_truth = None\n",
    "\n",
    "# self_pred_image = image_to_train\n",
    "# self_pred_labels = labels_to_train\n",
    "# # ground_truth = None\n",
    "\n",
    "self_pred = selfpredict_dino_forest(self_pred_image, self_pred_labels, ground_truth,\n",
    "                                    upscale_order=upscale_order, pad_mode=pad_mode, extra_pads=extra_pads, scales=scales,\n",
    "                                    dinov2_model=dinov2_model, dinov2_layers=dinov2_layers, vgg16_layers=vgg16, append_image_as_feature=image_as_feature,\n",
    "                                    show_napari=show_napari)\n",
    "predicted_labels, image_scaled, labels_scaled, feature_space, acc = self_pred"
   ]
  },
  {
   "cell_type": "markdown",
   "id": "efecdf73",
   "metadata": {},
   "source": [
    "If can't show in napari, show using matplotlib (excluding the feature space)."
   ]
  },
  {
   "cell_type": "code",
   "execution_count": null,
   "id": "6ffa591a",
   "metadata": {},
   "outputs": [],
   "source": [
    "if not show_napari:\n",
    "    ax = plt.subplots(1, 3)[1]\n",
    "    ax[0].imshow(predicted_labels)\n",
    "    ax[0].axis('off')\n",
    "    ax[0].set_title('Predicted labels')\n",
    "\n",
    "    ax[1].imshow(image_scaled)\n",
    "    ax[1].axis('off')\n",
    "    ax[1].set_title('Image')\n",
    "\n",
    "    ax[2].imshow(labels_scaled)\n",
    "    ax[2].axis('off')\n",
    "    ax[2].set_title('Labels')\n",
    "\n",
    "    plt.show()"
   ]
  },
  {
   "attachments": {},
   "cell_type": "markdown",
   "id": "49dc58fd",
   "metadata": {},
   "source": [
    "## Tests against ground truth"
   ]
  },
  {
   "cell_type": "code",
   "execution_count": null,
   "id": "e225ecbc",
   "metadata": {},
   "outputs": [],
   "source": [
    "# Load/define image\n",
    "image_to_train = skimage.data.astronaut()#[200:300,250:400]\n",
    "labels_to_train = load_url_to_array('astro_labels.tif', True)#[200:300,250:400]\n",
    "image_to_pred = None #skimage.data.camera()\n",
    "ground_truth = load_url_to_array('astro_ground_truth.tif', True)#[200:300,250:400]\n",
    "\n",
    "# Create possible combinations of VGG16 layers and scales\n",
    "all_vggs = [0,2,5,7,10,12,14,17,19,21,24,26,28]\n",
    "chosen_vggs = [0,2,5,7,10,12,14,17,19,21,24,26,28]\n",
    "single_vggs = [[i] for i in chosen_vggs]\n",
    "consecutive_vggs = [chosen_vggs[:s] for s in range(1, 1 + len(chosen_vggs))]\n",
    "dual_vggs = [[chosen_vggs[i], chosen_vggs[j]] for i in range(len(chosen_vggs)) for j in range(i+1, len(chosen_vggs))]\n",
    "\n",
    "all_scales = [1.0, 1.32, 1.73, 2.28, 3.0]\n",
    "chosen_scales = all_scales[:3]\n",
    "single_scales = [{\"DINOv2\": [d], \"VGG16\": [v]} for d in chosen_scales for v in chosen_scales]\n",
    "consecutive_scales = [{\"DINOv2\": chosen_scales[:d], \"VGG16\": chosen_scales[:v]} for d in range(1, 1 + len(chosen_scales)) for v in range(1, 1 + len(chosen_scales))]\n",
    "\n",
    "# Choose what to use\n",
    "dino_models = [None, 's']#, 'b']\n",
    "dino_layer_combos = [(),\n",
    "                     [8, 9, 10, 11]]\n",
    "vgg_layer_combos = [None,\n",
    "                    [2, 7]]\n",
    "                    # [24,26,28]]\n",
    "scale_combos = [{\"DINOv2\": (), \"VGG16\": ()},\n",
    "                {\"DINOv2\": (), \"VGG16\": (1,2)},\n",
    "                {\"DINOv2\": (1,2), \"VGG16\": ()},\n",
    "                {\"DINOv2\": (1,2), \"VGG16\": (1,2)}]"
   ]
  },
  {
   "cell_type": "code",
   "execution_count": null,
   "id": "a6851f03",
   "metadata": {},
   "outputs": [],
   "source": [
    "test_df = test_dino_forest(image_to_train, labels_to_train, ground_truth, image_to_pred,\n",
    "                        dinov2_models=dino_models, dinov2_layer_combos=dino_layer_combos, vgg16_layer_combos=vgg_layer_combos, scale_combos=scale_combos,\n",
    "                        write_csv=True)"
   ]
  }
 ],
 "metadata": {
  "kernelspec": {
   "display_name": "Python 3 (ipykernel)",
   "language": "python",
   "name": "python3"
  },
  "language_info": {
   "codemirror_mode": {
    "name": "ipython",
    "version": 3
   },
   "file_extension": ".py",
   "mimetype": "text/x-python",
   "name": "python",
   "nbconvert_exporter": "python",
   "pygments_lexer": "ipython3",
   "version": "3.9.18"
  }
 },
 "nbformat": 4,
 "nbformat_minor": 5
}
