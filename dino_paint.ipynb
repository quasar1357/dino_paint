{
 "cells": [
  {
   "attachments": {},
   "cell_type": "markdown",
   "id": "f9282643-c6fa-4806-8a91-0156710c8664",
   "metadata": {},
   "source": [
    "# Semantic Segmentation with convpaint and DINOv2\n",
    "\n",
    "This notebooks demonstrates how to run a semantic segmentation on an image using DINOv2 for feature extraction and a random forest algorithm for classification. It is based on the notebook provided by convpaint.\n"
   ]
  },
  {
   "attachments": {},
   "cell_type": "markdown",
   "id": "c9a1c36c",
   "metadata": {},
   "source": [
    "## Imports"
   ]
  },
  {
   "cell_type": "code",
   "execution_count": 2,
   "id": "e314538e-f42d-42d0-89a9-4ddd4588c483",
   "metadata": {},
   "outputs": [],
   "source": [
    "%load_ext autoreload\n",
    "%autoreload 2\n",
    "\n",
    "import napari\n",
    "import numpy as np\n",
    "import skimage\n",
    "from matplotlib import pyplot as plt\n",
    "from dino_paint_utils import (train_dino_forest,\n",
    "                              predict_dino_forest,\n",
    "                              selfpredict_dino_forest,\n",
    "                              test_dino_forest)"
   ]
  },
  {
   "attachments": {},
   "cell_type": "markdown",
   "id": "1570ce97",
   "metadata": {},
   "source": [
    "## Choose the model"
   ]
  },
  {
   "attachments": {},
   "cell_type": "markdown",
   "id": "6f82e4b3",
   "metadata": {},
   "source": [
    "1) Choose the **DINOv2 model** to be used (assign None to not use DINOv2):\n",
    "\n",
    "|key | model| features\n",
    "|---|---|---|\n",
    "|'s' | dinov2_vits14| 384|\n",
    "|'b' | dinov2_vitb14| 768|\n",
    "|'l' | dinov2_vitl14| 1024|\n",
    "|'g' | dinov2_vitg14| 1536|\n",
    "|+ '_r' | *base_model*_reg (not supported yet)| add registers|\n",
    "\n",
    "2) Choose the **layers of DINOv2** to used features (give a list of indices 0-11); each layer has the number of features specific for the model as listed in the table above.\n",
    "\n",
    "3) Choose the **layers of VGG16** to be attatched as additional features (give a list of indices; only use Conv2d layers; assign None to not use VGG16):\n",
    "\n",
    "|index|layer|\n",
    "|---|---|\n",
    "|**0**|**Conv2d3, 64, kernel_size=3, stride=1, padding=1**|\n",
    "|1|ReLUinplace=True|\n",
    "|**2**|**Conv2d64, 64, kernel_size=3, stride=1, padding=1**|\n",
    "|3|ReLUinplace=True|\n",
    "|4|MaxPool2dkernel_size=2, stride=2, padding=0, dilation=1, ceil_mode=False|\n",
    "|**5**|**Conv2d64, 128, kernel_size=3, stride=1, padding=1**|\n",
    "|6|ReLUinplace=True|\n",
    "|**7**|**Conv2d128, 128, kernel_size=3, stride=1, padding=1**|\n",
    "|8|ReLUinplace=True|\n",
    "|9|MaxPool2dkernel_size=2, stride=2, padding=0, dilation=1, ceil_mode=False|\n",
    "|**10**|**Conv2d128, 256, kernel_size=3, stride=1, padding=1**|\n",
    "|11|ReLUinplace=True|\n",
    "|**12**|**Conv2d256, 256, kernel_size=3, stride=1, padding=1**|\n",
    "|13|ReLUinplace=True|\n",
    "|**14**|**Conv2d256, 256, kernel_size=3, stride=1, padding=1**|\n",
    "|15|ReLUinplace=True|\n",
    "|16|MaxPool2dkernel_size=2, stride=2, padding=0, dilation=1, ceil_mode=False|\n",
    "|**17**|**Conv2d256, 512, kernel_size=3, stride=1, padding=1**|\n",
    "|18|ReLUinplace=True|\n",
    "|**19**|**Conv2d512, 512, kernel_size=3, stride=1, padding=1**|\n",
    "|20|ReLUinplace=True|\n",
    "|**21**|**Conv2d512, 512, kernel_size=3, stride=1, padding=1**|\n",
    "|22|ReLUinplace=True|\n",
    "|23|MaxPool2dkernel_size=2, stride=2, padding=0, dilation=1, ceil_mode=False|\n",
    "|**24**|**Conv2d512, 512, kernel_size=3, stride=1, padding=1**|\n",
    "|25|ReLUinplace=True|\n",
    "|**26**|**Conv2d512, 512, kernel_size=3, stride=1, padding=1**|\n",
    "|27|ReLUinplace=True|\n",
    "|**28**|**Conv2d512, 512, kernel_size=3, stride=1, padding=1**|\n",
    "|29|ReLUinplace=True|\n",
    "|30|MaxPool2dkernel_size=2, stride=2, padding=0, dilation=1, ceil_mode=False|\n",
    "\n",
    "4) Choose if the **image itself** (3 rgb channels) shall be added as features.\n",
    "\n",
    "5) Choose the **scale factor** to use.\n",
    "\n"
   ]
  },
  {
   "cell_type": "code",
   "execution_count": 3,
   "id": "80e4c999",
   "metadata": {},
   "outputs": [],
   "source": [
    "dinov2_model = 's'\n",
    "dinov2_layers = [11]\n",
    "vgg16 = [2] # [0,2,5,7,10,12,14,17,19,21,24,26,28]\n",
    "image_as_feature = False\n",
    "scale = 1"
   ]
  },
  {
   "attachments": {},
   "cell_type": "markdown",
   "id": "36382298",
   "metadata": {},
   "source": [
    "## Train"
   ]
  },
  {
   "attachments": {},
   "cell_type": "markdown",
   "id": "3ea22d4c",
   "metadata": {},
   "source": [
    "Load an image and its annotation/labels to train the model on."
   ]
  },
  {
   "cell_type": "code",
   "execution_count": 4,
   "id": "7def2e14",
   "metadata": {},
   "outputs": [],
   "source": [
    "# image_to_train = skimage.data.cells3d()\n",
    "# image_to_train = image_to_train[30, 1]\n",
    "# from napari_convpaint.convpaint_sample import create_annotation_cell3d\n",
    "# labels_to_train = create_annotation_cell3d()[0][0]\n",
    "# image_to_train = image_to_train[:, :126]\n",
    "# labels_to_train = labels_to_train[:, :126]\n",
    "\n",
    "# crop = ((60,288), (0,178))\n",
    "# crop = ((20,20+224), (0,224))\n",
    "# image_to_train = image_to_train[crop[0][0]:crop[0][1], crop[1][0]:crop[1][1]]\n",
    "# labels_to_train = labels_to_train[crop[0][0]:crop[0][1], crop[1][0]:crop[1][1]]\n",
    "\n",
    "# LOAD ASTRONAUT IMAGE (RGB) AND ANNOTATION\n",
    "image_to_train = skimage.data.astronaut()#[0:504,0:504,:]\n",
    "labels_to_train = plt.imread('images_and_labels/astro_labels_2.tif')[:,:,0]#[0:504,0:504]\n",
    "\n",
    "# LOAD HARDER CELL IMAGE AND ITS LABELS\n",
    "# image_to_train = plt.imread('images_and_labels/00_00016.tiff')\n",
    "# labels_to_train = plt.imread('images_and_labels/00_00016_labels.tiff')[:,:,0]"
   ]
  },
  {
   "attachments": {},
   "cell_type": "markdown",
   "id": "47e31289",
   "metadata": {},
   "source": [
    "Exctract the features using DINOv2 and/or VGG16 and use them to train a random forest classifier."
   ]
  },
  {
   "cell_type": "code",
   "execution_count": 64,
   "id": "bebe9781",
   "metadata": {},
   "outputs": [
    {
     "name": "stdout",
     "output_type": "stream",
     "text": [
      "using VGG16 layers ['features.2 Conv2d(64, 64, kernel_size=(3, 3), stride=(1, 1), padding=(1, 1))']\n"
     ]
    }
   ],
   "source": [
    "train = train_dino_forest(image_to_train, labels_to_train,\n",
    "                          crop_to_patch=True, scale=scale, upscale_order=1,\n",
    "                          dinov2_model=dinov2_model, dinov2_layers=dinov2_layers, vgg16_layers=vgg16, append_image_as_feature=image_as_feature,\n",
    "                          show_napari=True)\n",
    "random_forest, image_train, labels_train, features_space_train = train"
   ]
  },
  {
   "attachments": {},
   "cell_type": "markdown",
   "id": "d8625bc9",
   "metadata": {},
   "source": [
    "## Predict"
   ]
  },
  {
   "attachments": {},
   "cell_type": "markdown",
   "id": "8e01ea6d",
   "metadata": {},
   "source": [
    "Load an image to predict the labels for using the trained model above."
   ]
  },
  {
   "cell_type": "code",
   "execution_count": 5,
   "id": "258e862b",
   "metadata": {},
   "outputs": [],
   "source": [
    "# image_to_pred = skimage.data.cells3d()\n",
    "# image_to_pred = image_to_pred[40, 1][:,125:251]\n",
    "# ground_truth = plt.imread('images_and_labels/cells_cross_ground_truth.tif')[:,:,0]\n",
    "\n",
    "# crop = ((20,248), (50,278))\n",
    "# crop = ((20,20+224), (0,224))\n",
    "# image_to_pred = image_to_pred[crop[0][0]:crop[0][1], crop[1][0]:crop[1][1]]\n",
    "\n",
    "# LOAD AN IMAGE TO PREDICT BASED ON THE CLASSIFIER TRAINED ON THE ASTRONAUT IMAGE\n",
    "image_to_pred = skimage.data.camera()\n",
    "ground_truth = plt.imread('images_and_labels/cam_ground_truth.tif')[:,:,0]\n",
    "\n",
    "# image_to_pred = skimage.data.cat()\n",
    "# image_to_pred = skimage.data.horse().astype(np.int32)\n",
    "# image_to_pred = skimage.data.binary_blobs().astype(np.int32)\n",
    "# image_to_pred = skimage.data.coins()\n",
    "# ground_truth = None\n"
   ]
  },
  {
   "attachments": {},
   "cell_type": "markdown",
   "id": "9a2d834a",
   "metadata": {},
   "source": [
    "Exctract the features and use them together with the trained classifier to make a prediciton for the labels."
   ]
  },
  {
   "cell_type": "code",
   "execution_count": null,
   "id": "8a7de01f",
   "metadata": {},
   "outputs": [],
   "source": [
    "pred = predict_dino_forest(image_to_pred, random_forest, ground_truth=ground_truth,\n",
    "                           crop_to_patch=True, scale=scale, upscale_order=1,\n",
    "                           dinov2_model=dinov2_model, dinov2_layers=dinov2_layers, vgg16_layers=vgg16, append_image_as_feature=image_as_feature,\n",
    "                           show_napari=True)\n",
    "predicted_labels, image_pred, features_space_pred, acc = pred"
   ]
  },
  {
   "attachments": {},
   "cell_type": "markdown",
   "id": "5a9399b3",
   "metadata": {},
   "source": [
    "## Selfpredict"
   ]
  },
  {
   "attachments": {},
   "cell_type": "markdown",
   "id": "50f4246b",
   "metadata": {},
   "source": [
    "We can also directly do a training and prediction on the same image (extracting the features only once)."
   ]
  },
  {
   "cell_type": "code",
   "execution_count": null,
   "id": "c64f91e1",
   "metadata": {},
   "outputs": [],
   "source": [
    "# self_pred_image = skimage.data.astronaut()#[0:504,0:504,:]\n",
    "# self_pred_labels = plt.imread('images_and_labels/astro_labels_2.tif')[:,:,0]#[0:504,0:504]\n",
    "# ground_truth = plt.imread('images_and_labels/astro_ground_truth.tif')[:,:,0]\n",
    "self_pred_image = image_to_train\n",
    "self_pred_labels = labels_to_train\n",
    "ground_truth = None\n",
    "\n",
    "self_pred = selfpredict_dino_forest(self_pred_image, self_pred_labels, ground_truth,\n",
    "                                    crop_to_patch=True, scale=scale, upscale_order=1,\n",
    "                                    dinov2_model=dinov2_model, dinov2_layers=dinov2_layers, vgg16_layers=vgg16, append_image_as_feature=image_as_feature,\n",
    "                                    show_napari=True)\n",
    "predicted_labels, image_scaled, labels_scaled, feature_space, acc = self_pred"
   ]
  },
  {
   "attachments": {},
   "cell_type": "markdown",
   "id": "49dc58fd",
   "metadata": {},
   "source": [
    "## Tests against ground truth"
   ]
  },
  {
   "cell_type": "code",
   "execution_count": 6,
   "id": "e225ecbc",
   "metadata": {},
   "outputs": [],
   "source": [
    "image_to_train = skimage.data.astronaut()#[0:504,0:504,:]\n",
    "labels_to_train = plt.imread('images_and_labels/astro_labels_2.tif')[:,:,0]#[0:504,0:504]\n",
    "ground_truth = plt.imread('images_and_labels/astro_ground_truth.tif')[:,:,0]\n",
    "image_to_pred = None\n",
    "\n",
    "# viewer = napari.Viewer()\n",
    "# viewer.add_image(image_to_train)\n",
    "# viewer.add_labels(labels_to_train)\n",
    "# viewer_2 = napari.Viewer()\n",
    "# viewer_2.add_image(image_to_pred)\n",
    "# viewer_2.add_labels(ground_truth)\n",
    "\n",
    "all_vggs = [0,2,5,7,10,12,14,17,19,21,24,26,28]\n",
    "single_vggs = [[i] for i in all_vggs]\n",
    "consecutive_vggs = [all_vggs[:s] for s in range(1,len(all_vggs))]\n",
    "dual_vggs = [[all_vggs[i], all_vggs[j]] for i in range(len(all_vggs)) for j in range(i+1, len(all_vggs))]\n",
    "\n",
    "dino_models = [None, 's']#, 'b']\n",
    "dino_layers = [[8, 9, 10, 11], [11]]\n",
    "vggs = [None] #, [24,26,28]] #, all_vggs]#[0], [10], [17], [24], [0, 10, 17, 24]]#\n",
    "im_feats = [False]#, True]\n",
    "scales = [1]#, 2]"
   ]
  },
  {
   "cell_type": "code",
   "execution_count": 8,
   "id": "a6851f03",
   "metadata": {},
   "outputs": [
    {
     "name": "stdout",
     "output_type": "stream",
     "text": [
      "Running tests for DINOv2 model None, layers 10...\n",
      "Running tests for VGG16 layers 10...\n"
     ]
    },
    {
     "ename": "TypeError",
     "evalue": "'int' object is not iterable",
     "output_type": "error",
     "traceback": [
      "\u001b[1;31m---------------------------------------------------------------------------\u001b[0m",
      "\u001b[1;31mTypeError\u001b[0m                                 Traceback (most recent call last)",
      "\u001b[1;32md:\\Documents\\Beruf & Ausbildung\\Ausbildung\\22-08 MSc BioInf\\- Research Project\\dino_paint\\dino_paint.ipynb Cell 22\u001b[0m line \u001b[0;36m1\n\u001b[1;32m----> <a href='vscode-notebook-cell:/d%3A/Documents/Beruf%20%26%20Ausbildung/Ausbildung/22-08%20MSc%20BioInf/-%20Research%20Project/dino_paint/dino_paint.ipynb#X30sZmlsZQ%3D%3D?line=0'>1</a>\u001b[0m test \u001b[39m=\u001b[39m test_dino_forest(image_to_train, labels_to_train, ground_truth, image_to_pred,\n\u001b[0;32m      <a href='vscode-notebook-cell:/d%3A/Documents/Beruf%20%26%20Ausbildung/Ausbildung/22-08%20MSc%20BioInf/-%20Research%20Project/dino_paint/dino_paint.ipynb#X30sZmlsZQ%3D%3D?line=1'>2</a>\u001b[0m                         scales\u001b[39m=\u001b[39;49mscales, dinov2_models\u001b[39m=\u001b[39;49mdino_models, dinov2_layer_combos\u001b[39m=\u001b[39;49mdino_layers, vgg16_layer_combos\u001b[39m=\u001b[39;49mvggs, im_feats\u001b[39m=\u001b[39;49mim_feats,\n\u001b[0;32m      <a href='vscode-notebook-cell:/d%3A/Documents/Beruf%20%26%20Ausbildung/Ausbildung/22-08%20MSc%20BioInf/-%20Research%20Project/dino_paint/dino_paint.ipynb#X30sZmlsZQ%3D%3D?line=2'>3</a>\u001b[0m                         print_avg\u001b[39m=\u001b[39;49m\u001b[39mTrue\u001b[39;49;00m, print_max\u001b[39m=\u001b[39;49m\u001b[39mTrue\u001b[39;49;00m)\n\u001b[0;32m      <a href='vscode-notebook-cell:/d%3A/Documents/Beruf%20%26%20Ausbildung/Ausbildung/22-08%20MSc%20BioInf/-%20Research%20Project/dino_paint/dino_paint.ipynb#X30sZmlsZQ%3D%3D?line=3'>4</a>\u001b[0m accs, avg_accs, max_acc \u001b[39m=\u001b[39m test\n",
      "File \u001b[1;32md:\\Documents\\Beruf & Ausbildung\\Ausbildung\\22-08 MSc BioInf\\- Research Project\\dino_paint\\dino_paint_utils.py:321\u001b[0m, in \u001b[0;36mtest_dino_forest\u001b[1;34m(image_to_train, labels_to_train, ground_truth, image_to_pred, scales, dinov2_models, dinov2_layer_combos, vgg16_layer_combos, im_feats, print_avg, print_max)\u001b[0m\n\u001b[0;32m    319\u001b[0m \u001b[39m# Selfpredict if no image to predict is specified\u001b[39;00m\n\u001b[0;32m    320\u001b[0m \u001b[39mif\u001b[39;00m image_to_pred \u001b[39mis\u001b[39;00m \u001b[39mNone\u001b[39;00m:\n\u001b[1;32m--> 321\u001b[0m     pred \u001b[39m=\u001b[39m selfpredict_dino_forest(image_to_train, labels_to_train, ground_truth, crop_to_patch\u001b[39m=\u001b[39;49m\u001b[39mTrue\u001b[39;49;00m, scale\u001b[39m=\u001b[39;49ms, upscale_order\u001b[39m=\u001b[39;49m\u001b[39m1\u001b[39;49m, dinov2_model\u001b[39m=\u001b[39;49mdino, dinov2_layers\u001b[39m=\u001b[39;49md_layers, vgg16_layers\u001b[39m=\u001b[39;49mvgg, append_image_as_feature\u001b[39m=\u001b[39;49mim_feat, show_napari\u001b[39m=\u001b[39;49m\u001b[39mFalse\u001b[39;49;00m)\n\u001b[0;32m    322\u001b[0m \u001b[39m# Otherwise predict labels for the given image\u001b[39;00m\n\u001b[0;32m    323\u001b[0m \u001b[39melse\u001b[39;00m:\n\u001b[0;32m    324\u001b[0m     train \u001b[39m=\u001b[39m train_dino_forest(image_to_train, labels_to_train, crop_to_patch\u001b[39m=\u001b[39m\u001b[39mTrue\u001b[39;00m, scale\u001b[39m=\u001b[39ms, upscale_order\u001b[39m=\u001b[39m\u001b[39m1\u001b[39m, dinov2_model\u001b[39m=\u001b[39mdino, dinov2_layers\u001b[39m=\u001b[39md_layers, vgg16_layers\u001b[39m=\u001b[39mvgg, append_image_as_feature\u001b[39m=\u001b[39mim_feat, show_napari\u001b[39m=\u001b[39m\u001b[39mFalse\u001b[39;00m)\n",
      "File \u001b[1;32md:\\Documents\\Beruf & Ausbildung\\Ausbildung\\22-08 MSc BioInf\\- Research Project\\dino_paint\\dino_paint_utils.py:195\u001b[0m, in \u001b[0;36mselfpredict_dino_forest\u001b[1;34m(image, labels, ground_truth, crop_to_patch, scale, upscale_order, dinov2_model, dinov2_layers, vgg16_layers, append_image_as_feature, show_napari)\u001b[0m\n\u001b[0;32m    189\u001b[0m \u001b[39mdef\u001b[39;00m \u001b[39mselfpredict_dino_forest\u001b[39m(image, labels, ground_truth\u001b[39m=\u001b[39m\u001b[39mNone\u001b[39;00m, crop_to_patch\u001b[39m=\u001b[39m\u001b[39mTrue\u001b[39;00m, scale\u001b[39m=\u001b[39m\u001b[39m1\u001b[39m, upscale_order\u001b[39m=\u001b[39m\u001b[39m1\u001b[39m, dinov2_model\u001b[39m=\u001b[39m\u001b[39m'\u001b[39m\u001b[39ms\u001b[39m\u001b[39m'\u001b[39m, dinov2_layers\u001b[39m=\u001b[39m(), vgg16_layers\u001b[39m=\u001b[39m\u001b[39mNone\u001b[39;00m, append_image_as_feature\u001b[39m=\u001b[39m\u001b[39mFalse\u001b[39;00m, show_napari\u001b[39m=\u001b[39m\u001b[39mFalse\u001b[39;00m):\n\u001b[0;32m    190\u001b[0m \u001b[39m    \u001b[39m\u001b[39m'''\u001b[39;00m\n\u001b[0;32m    191\u001b[0m \u001b[39m    Takes an image and a label image, and trains a random forest classifier on the DINOv2 features of the image.\u001b[39;00m\n\u001b[0;32m    192\u001b[0m \u001b[39m    Then uses the trained random forest to predict labels for the image itself.\u001b[39;00m\n\u001b[0;32m    193\u001b[0m \u001b[39m    Returns the predicted labels, the image and labels used for training (both scaled to DINOv2's patch size) and the DINOv2 feature space.\u001b[39;00m\n\u001b[0;32m    194\u001b[0m \u001b[39m    '''\u001b[39;00m\n\u001b[1;32m--> 195\u001b[0m     train \u001b[39m=\u001b[39m train_dino_forest(image, labels, crop_to_patch, scale, upscale_order, dinov2_model, dinov2_layers, vgg16_layers, append_image_as_feature, show_napari\u001b[39m=\u001b[39;49m\u001b[39mFalse\u001b[39;49;00m)\n\u001b[0;32m    196\u001b[0m     random_forest, image_scaled, labels_scaled, feature_space \u001b[39m=\u001b[39m train\n\u001b[0;32m    197\u001b[0m     predicted_labels \u001b[39m=\u001b[39m predict_space_to_image(feature_space, random_forest)\n",
      "File \u001b[1;32md:\\Documents\\Beruf & Ausbildung\\Ausbildung\\22-08 MSc BioInf\\- Research Project\\dino_paint\\dino_paint_utils.py:154\u001b[0m, in \u001b[0;36mtrain_dino_forest\u001b[1;34m(image, labels, crop_to_patch, scale, upscale_order, dinov2_model, dinov2_layers, vgg16_layers, append_image_as_feature, show_napari)\u001b[0m\n\u001b[0;32m    149\u001b[0m \u001b[39m\u001b[39m\u001b[39m'''\u001b[39;00m\n\u001b[0;32m    150\u001b[0m \u001b[39mTakes an image and a label image, and trains a random forest classifier on the DINOv2 features of the image.\u001b[39;00m\n\u001b[0;32m    151\u001b[0m \u001b[39mReturns the random forest, the image and labels used for training (both scaled to DINOv2's patch size) and the DINOv2 feature space.\u001b[39;00m\n\u001b[0;32m    152\u001b[0m \u001b[39m'''\u001b[39;00m\n\u001b[0;32m    153\u001b[0m image_scaled \u001b[39m=\u001b[39m scale_to_patch(image, crop_to_patch, scale, interpolation_order\u001b[39m=\u001b[39m\u001b[39m1\u001b[39m)\n\u001b[1;32m--> 154\u001b[0m feature_space \u001b[39m=\u001b[39m extract_feature_space(image_scaled, upscale_order, dinov2_model, dinov2_layers, vgg16_layers, append_image_as_feature)\n\u001b[0;32m    155\u001b[0m \u001b[39m# NOTE: interpolation order must be 0 (nearest) for labels\u001b[39;00m\n\u001b[0;32m    156\u001b[0m labels_scaled \u001b[39m=\u001b[39m scale_to_patch(labels, crop_to_patch, scale, interpolation_order\u001b[39m=\u001b[39m\u001b[39m0\u001b[39m)\n",
      "File \u001b[1;32md:\\Documents\\Beruf & Ausbildung\\Ausbildung\\22-08 MSc BioInf\\- Research Project\\dino_paint\\dino_paint_utils.py:121\u001b[0m, in \u001b[0;36mextract_feature_space\u001b[1;34m(image, upscale_order, dinov2_model, dinov2_layers, vgg16_layers, append_image_as_feature)\u001b[0m\n\u001b[0;32m    119\u001b[0m     feature_space \u001b[39m=\u001b[39m extract_dinov2_features(image, upscale_order, dinov2_model, dinov2_layers)\n\u001b[0;32m    120\u001b[0m \u001b[39melif\u001b[39;00m dinov2_model \u001b[39mis\u001b[39;00m \u001b[39mNone\u001b[39;00m:\n\u001b[1;32m--> 121\u001b[0m     feature_space \u001b[39m=\u001b[39m extract_vgg16_features(image, vgg16_layers)\n\u001b[0;32m    122\u001b[0m \u001b[39melse\u001b[39;00m:\n\u001b[0;32m    123\u001b[0m     dinov2_features \u001b[39m=\u001b[39m extract_dinov2_features(image, upscale_order, dinov2_model, dinov2_layers)\n",
      "File \u001b[1;32md:\\Documents\\Beruf & Ausbildung\\Ausbildung\\22-08 MSc BioInf\\- Research Project\\dino_paint\\dino_paint_utils.py:80\u001b[0m, in \u001b[0;36mextract_vgg16_features\u001b[1;34m(image, layers, show_napari)\u001b[0m\n\u001b[0;32m     78\u001b[0m all_layers \u001b[39m=\u001b[39m [key \u001b[39mfor\u001b[39;00m key \u001b[39min\u001b[39;00m model\u001b[39m.\u001b[39mmodule_dict\u001b[39m.\u001b[39mkeys()]\n\u001b[0;32m     79\u001b[0m \u001b[39m# If the layers are given as strings, and they are valid, we can use them directly\u001b[39;00m\n\u001b[1;32m---> 80\u001b[0m \u001b[39mif\u001b[39;00m (\u001b[39mall\u001b[39m(\u001b[39misinstance\u001b[39m(layer, \u001b[39mstr\u001b[39m) \u001b[39mand\u001b[39;00m layer \u001b[39min\u001b[39;00m all_layers \u001b[39mfor\u001b[39;00m layer \u001b[39min\u001b[39;00m layers)):\n\u001b[0;32m     81\u001b[0m     \u001b[39mpass\u001b[39;00m\n\u001b[0;32m     82\u001b[0m \u001b[39m# If the layers are given as ints, we need to extract the strings first\u001b[39;00m\n",
      "\u001b[1;31mTypeError\u001b[0m: 'int' object is not iterable"
     ]
    }
   ],
   "source": [
    "test = test_dino_forest(image_to_train, labels_to_train, ground_truth, image_to_pred,\n",
    "                        scales=scales, dinov2_models=dino_models, dinov2_layer_combos=dino_layers, vgg16_layer_combos=vggs, im_feats=im_feats,\n",
    "                        print_avg=True, print_max=True)\n",
    "accs, avg_accs, max_acc = test"
   ]
  }
 ],
 "metadata": {
  "kernelspec": {
   "display_name": "Python 3 (ipykernel)",
   "language": "python",
   "name": "python3"
  },
  "language_info": {
   "codemirror_mode": {
    "name": "ipython",
    "version": 3
   },
   "file_extension": ".py",
   "mimetype": "text/x-python",
   "name": "python",
   "nbconvert_exporter": "python",
   "pygments_lexer": "ipython3",
   "version": "3.9.17"
  }
 },
 "nbformat": 4,
 "nbformat_minor": 5
}
