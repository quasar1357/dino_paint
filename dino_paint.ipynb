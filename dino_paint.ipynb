{
 "cells": [
  {
   "attachments": {},
   "cell_type": "markdown",
   "id": "f9282643-c6fa-4806-8a91-0156710c8664",
   "metadata": {},
   "source": [
    "# Semantic Segmentation with convpaint and DINOv2\n",
    "\n",
    "This notebooks demonstrates how to run a semantic segmentation on an image using DINOv2 for feature extraction and a random forest algorithm for classification. It is based on the notebook provided by convpaint.\n"
   ]
  },
  {
   "attachments": {},
   "cell_type": "markdown",
   "id": "c9a1c36c",
   "metadata": {},
   "source": [
    "## Imports"
   ]
  },
  {
   "cell_type": "code",
   "execution_count": 1,
   "id": "e314538e-f42d-42d0-89a9-4ddd4588c483",
   "metadata": {},
   "outputs": [],
   "source": [
    "%load_ext autoreload\n",
    "%autoreload 2\n",
    "\n",
    "import napari\n",
    "import numpy as np\n",
    "import skimage\n",
    "from matplotlib import pyplot as plt\n",
    "from dino_paint_utils import (train_dino_forest,\n",
    "                              predict_dino_forest,\n",
    "                              selfpredict_dino_forest,\n",
    "                              test_dino_forest,\n",
    "                              pad_to_patch)"
   ]
  },
  {
   "attachments": {},
   "cell_type": "markdown",
   "id": "1570ce97",
   "metadata": {},
   "source": [
    "## Choose the model"
   ]
  },
  {
   "attachments": {},
   "cell_type": "markdown",
   "id": "6f82e4b3",
   "metadata": {},
   "source": [
    "1) Choose the **DINOv2 model** to be used (assign None to not use DINOv2):\n",
    "\n",
    "|key | model| features\n",
    "|---|---|---|\n",
    "|'s' | dinov2_vits14| 384|\n",
    "|'b' | dinov2_vitb14| 768|\n",
    "|'l' | dinov2_vitl14| 1024|\n",
    "|'g' | dinov2_vitg14| 1536|\n",
    "|+ '_r' | *base_model*_reg (not supported yet)| add registers|\n",
    "\n",
    "2) Choose the **layers of DINOv2** to used features (give a list of indices 0-11); each layer has the number of features specific for the model as listed in the table above.\n",
    "\n",
    "3) Choose the **layers of VGG16** to be attatched as additional features (give a list of indices; only use Conv2d layers; assign None to not use VGG16):\n",
    "\n",
    "|index|layer|\n",
    "|---|---|\n",
    "|**0**|**Conv2d3, 64, kernel_size=3, stride=1, padding=1**|\n",
    "|1|ReLUinplace=True|\n",
    "|**2**|**Conv2d64, 64, kernel_size=3, stride=1, padding=1**|\n",
    "|3|ReLUinplace=True|\n",
    "|4|MaxPool2dkernel_size=2, stride=2, padding=0, dilation=1, ceil_mode=False|\n",
    "|**5**|**Conv2d64, 128, kernel_size=3, stride=1, padding=1**|\n",
    "|6|ReLUinplace=True|\n",
    "|**7**|**Conv2d128, 128, kernel_size=3, stride=1, padding=1**|\n",
    "|8|ReLUinplace=True|\n",
    "|9|MaxPool2dkernel_size=2, stride=2, padding=0, dilation=1, ceil_mode=False|\n",
    "|**10**|**Conv2d128, 256, kernel_size=3, stride=1, padding=1**|\n",
    "|11|ReLUinplace=True|\n",
    "|**12**|**Conv2d256, 256, kernel_size=3, stride=1, padding=1**|\n",
    "|13|ReLUinplace=True|\n",
    "|**14**|**Conv2d256, 256, kernel_size=3, stride=1, padding=1**|\n",
    "|15|ReLUinplace=True|\n",
    "|16|MaxPool2dkernel_size=2, stride=2, padding=0, dilation=1, ceil_mode=False|\n",
    "|**17**|**Conv2d256, 512, kernel_size=3, stride=1, padding=1**|\n",
    "|18|ReLUinplace=True|\n",
    "|**19**|**Conv2d512, 512, kernel_size=3, stride=1, padding=1**|\n",
    "|20|ReLUinplace=True|\n",
    "|**21**|**Conv2d512, 512, kernel_size=3, stride=1, padding=1**|\n",
    "|22|ReLUinplace=True|\n",
    "|23|MaxPool2dkernel_size=2, stride=2, padding=0, dilation=1, ceil_mode=False|\n",
    "|**24**|**Conv2d512, 512, kernel_size=3, stride=1, padding=1**|\n",
    "|25|ReLUinplace=True|\n",
    "|**26**|**Conv2d512, 512, kernel_size=3, stride=1, padding=1**|\n",
    "|27|ReLUinplace=True|\n",
    "|**28**|**Conv2d512, 512, kernel_size=3, stride=1, padding=1**|\n",
    "|29|ReLUinplace=True|\n",
    "|30|MaxPool2dkernel_size=2, stride=2, padding=0, dilation=1, ceil_mode=False|\n",
    "\n",
    "4) Choose if the **image itself** (3 rgb channels) shall be added as features.\n",
    "\n",
    "5) Choose the **scale factor combinations** to use.\n",
    "\n"
   ]
  },
  {
   "cell_type": "code",
   "execution_count": 4,
   "id": "80e4c999",
   "metadata": {},
   "outputs": [],
   "source": [
    "dinov2_model = 's'\n",
    "dinov2_layers = [8,9,10,11]\n",
    "extra_pads= [] #[7] #[2,4,6,8,10,12]\n",
    "vgg16 = None #[2] # [0,2,5,7,10,12,14,17,19,21,24,26,28]\n",
    "image_as_feature = True\n",
    "scales = [] #[1,2,3]\n",
    "\n",
    "upscale_order = 0\n",
    "pad_mode = 'reflect'"
   ]
  },
  {
   "attachments": {},
   "cell_type": "markdown",
   "id": "36382298",
   "metadata": {},
   "source": [
    "## Train"
   ]
  },
  {
   "attachments": {},
   "cell_type": "markdown",
   "id": "3ea22d4c",
   "metadata": {},
   "source": [
    "Load an image and its annotation/labels to train the model on."
   ]
  },
  {
   "cell_type": "code",
   "execution_count": 56,
   "id": "7def2e14",
   "metadata": {},
   "outputs": [
    {
     "data": {
      "text/plain": [
       "Viewer(camera=Camera(center=(0.0, 511.5, 511.5), zoom=0.5281484082397004, angles=(0.0, 0.0, 90.0), perspective=0.0, mouse_pan=True, mouse_zoom=True), cursor=Cursor(position=(1.0, 1.0), scaled=True, size=10, style=<CursorStyle.STANDARD: 'standard'>), dims=Dims(ndim=2, ndisplay=2, last_used=0, range=((0.0, 1024.0, 1.0), (0.0, 1024.0, 1.0)), current_step=(511, 511), order=(0, 1), axis_labels=('0', '1')), grid=GridCanvas(stride=1, shape=(-1, -1), enabled=False), layers=[<Labels layer 'labels_to_train' at 0x2ba32e9e9d0>], help='use <1> for activate the label eraser, use <2> for activate the paint brush, use <3> for activate the fill bucket, use <4> for pick mode', status='Ready', tooltip=Tooltip(visible=False, text=''), theme='dark', title='napari', mouse_over_canvas=False, mouse_move_callbacks=[], mouse_drag_callbacks=[], mouse_double_click_callbacks=[], mouse_wheel_callbacks=[<function dims_scroll at 0x000002B806E90310>], _persisted_mouse_event={}, _mouse_drag_gen={}, _mouse_wheel_gen={}, keymap={})"
      ]
     },
     "execution_count": 56,
     "metadata": {},
     "output_type": "execute_result"
    }
   ],
   "source": [
    "image_to_train = skimage.data.cells3d()\n",
    "image_to_train = image_to_train[30, 1]\n",
    "from napari_convpaint.convpaint_sample import create_annotation_cell3d\n",
    "labels_to_train = create_annotation_cell3d()[0][0]\n",
    "image_to_train = image_to_train[:, :126]\n",
    "labels_to_train = labels_to_train[:, :126]\n",
    "\n",
    "# crop = ((60,288), (0,178))\n",
    "# crop = ((20,20+224), (0,224))\n",
    "# image_to_train = image_to_train[crop[0][0]:crop[0][1], crop[1][0]:crop[1][1]]\n",
    "# labels_to_train = labels_to_train[crop[0][0]:crop[0][1], crop[1][0]:crop[1][1]]\n",
    "\n",
    "# LOAD ASTRONAUT IMAGE (RGB) AND ANNOTATION\n",
    "# image_to_train = skimage.data.astronaut()#[0:504,0:504,:]\n",
    "# labels_to_train = plt.imread('images_and_labels/astro_labels.tif')#[0:504,0:504]\n",
    "\n",
    "# LOAD HARDER CELL IMAGE AND ITS LABELS\n",
    "# image_to_train = plt.imread('images_and_labels/00_00016.tiff')\n",
    "# labels_to_train = plt.imread('images_and_labels/00_00016_labels.tiff')\n"
   ]
  },
  {
   "attachments": {},
   "cell_type": "markdown",
   "id": "47e31289",
   "metadata": {},
   "source": [
    "Exctract the features using DINOv2 and/or VGG16 and use them to train a random forest classifier."
   ]
  },
  {
   "cell_type": "code",
   "execution_count": 57,
   "id": "bebe9781",
   "metadata": {},
   "outputs": [
    {
     "name": "stderr",
     "output_type": "stream",
     "text": [
      "WARNING: QWindowsWindow::setGeometry: Unable to set geometry 853x493+3841+446 (frame: 869x532+3833+415) on QWidgetWindow/\"_QtMainWindowClassWindow\" on \"\\\\.\\DISPLAY2\". Resulting geometry: 459x588+3833+405 (frame: 475x627+3825+374) margins: 8, 31, 8, 8 minimum size: 385x494 MINMAXINFO maxSize=0,0 maxpos=0,0 mintrack=401,533 maxtrack=0,0)\n",
      "WARNING:vispy:QWindowsWindow::setGeometry: Unable to set geometry 853x493+3841+446 (frame: 869x532+3833+415) on QWidgetWindow/\"_QtMainWindowClassWindow\" on \"\\\\.\\DISPLAY2\". Resulting geometry: 459x588+3833+405 (frame: 475x627+3825+374) margins: 8, 31, 8, 8 minimum size: 385x494 MINMAXINFO maxSize=0,0 maxpos=0,0 mintrack=401,533 maxtrack=0,0)\n"
     ]
    }
   ],
   "source": [
    "train = train_dino_forest(image_to_train, labels_to_train,\n",
    "                          upscale_order=upscale_order, pad_mode=pad_mode, extra_pads=extra_pads, scales=scales,\n",
    "                          dinov2_model=dinov2_model, dinov2_layers=dinov2_layers, vgg16_layers=vgg16, append_image_as_feature=image_as_feature,\n",
    "                          show_napari=True)\n",
    "random_forest, image_train, labels_train, features_space_train = train"
   ]
  },
  {
   "attachments": {},
   "cell_type": "markdown",
   "id": "d8625bc9",
   "metadata": {},
   "source": [
    "## Predict"
   ]
  },
  {
   "attachments": {},
   "cell_type": "markdown",
   "id": "8e01ea6d",
   "metadata": {},
   "source": [
    "Load an image to predict the labels for using the trained model above."
   ]
  },
  {
   "cell_type": "code",
   "execution_count": 45,
   "id": "258e862b",
   "metadata": {},
   "outputs": [
    {
     "data": {
      "text/plain": [
       "Viewer(camera=Camera(center=(0.0, 255.5, 255.5), zoom=1.0562968164794009, angles=(0.0, 0.0, 90.0), perspective=0.0, mouse_pan=True, mouse_zoom=True), cursor=Cursor(position=(1.0, 1.0), scaled=True, size=10, style=<CursorStyle.STANDARD: 'standard'>), dims=Dims(ndim=2, ndisplay=2, last_used=0, range=((0.0, 512.0, 1.0), (0.0, 512.0, 1.0)), current_step=(255, 255), order=(0, 1), axis_labels=('0', '1')), grid=GridCanvas(stride=1, shape=(-1, -1), enabled=False), layers=[<Labels layer 'ground_truth' at 0x2b959ec8730>], help='use <1> for activate the label eraser, use <2> for activate the paint brush, use <3> for activate the fill bucket, use <4> for pick mode', status='Ready', tooltip=Tooltip(visible=False, text=''), theme='dark', title='napari', mouse_over_canvas=False, mouse_move_callbacks=[], mouse_drag_callbacks=[], mouse_double_click_callbacks=[], mouse_wheel_callbacks=[<function dims_scroll at 0x000002B806E90310>], _persisted_mouse_event={}, _mouse_drag_gen={}, _mouse_wheel_gen={}, keymap={})"
      ]
     },
     "execution_count": 45,
     "metadata": {},
     "output_type": "execute_result"
    }
   ],
   "source": [
    "image_to_pred = skimage.data.cells3d()\n",
    "image_to_pred = image_to_pred[40, 1][:,125:251]\n",
    "ground_truth = plt.imread('images_and_labels/cells_cross_ground_truth.tif')\n",
    "\n",
    "# crop = ((20,248), (50,278))\n",
    "# crop = ((20,20+224), (0,224))\n",
    "# image_to_pred = image_to_pred[crop[0][0]:crop[0][1], crop[1][0]:crop[1][1]]\n",
    "\n",
    "# LOAD AN IMAGE TO PREDICT BASED ON THE CLASSIFIER TRAINED ON THE ASTRONAUT IMAGE\n",
    "# image_to_pred = skimage.data.camera()\n",
    "# ground_truth = plt.imread('images_and_labels/cam_ground_truth.tif')\n",
    "# image_to_pred = skimage.data.cat()\n",
    "# image_to_pred = skimage.data.horse().astype(np.int32)\n",
    "# image_to_pred = skimage.data.binary_blobs().astype(np.int32)\n",
    "# image_to_pred = skimage.data.coins()\n",
    "# ground_truth = None\n"
   ]
  },
  {
   "attachments": {},
   "cell_type": "markdown",
   "id": "9a2d834a",
   "metadata": {},
   "source": [
    "Exctract the features and use them together with the trained classifier to make a prediciton for the labels."
   ]
  },
  {
   "cell_type": "code",
   "execution_count": 46,
   "id": "8a7de01f",
   "metadata": {},
   "outputs": [
    {
     "name": "stderr",
     "output_type": "stream",
     "text": [
      "WARNING: QWindowsWindow::setGeometry: Unable to set geometry 853x493+3841+446 (frame: 869x532+3833+415) on QWidgetWindow/\"_QtMainWindowClassWindow\" on \"\\\\.\\DISPLAY2\". Resulting geometry: 459x588+3833+405 (frame: 475x627+3825+374) margins: 8, 31, 8, 8 minimum size: 385x494 MINMAXINFO maxSize=0,0 maxpos=0,0 mintrack=401,533 maxtrack=0,0)\n",
      "WARNING:vispy:QWindowsWindow::setGeometry: Unable to set geometry 853x493+3841+446 (frame: 869x532+3833+415) on QWidgetWindow/\"_QtMainWindowClassWindow\" on \"\\\\.\\DISPLAY2\". Resulting geometry: 459x588+3833+405 (frame: 475x627+3825+374) margins: 8, 31, 8, 8 minimum size: 385x494 MINMAXINFO maxSize=0,0 maxpos=0,0 mintrack=401,533 maxtrack=0,0)\n"
     ]
    }
   ],
   "source": [
    "pred = predict_dino_forest(image_to_pred, random_forest, ground_truth=ground_truth,\n",
    "                           upscale_order=upscale_order, pad_mode=pad_mode, extra_pads=extra_pads, scales=scales,\n",
    "                           dinov2_model=dinov2_model, dinov2_layers=dinov2_layers, vgg16_layers=vgg16, append_image_as_feature=image_as_feature,\n",
    "                           show_napari=True)\n",
    "predicted_labels, image_pred, features_space_pred, acc = pred"
   ]
  },
  {
   "attachments": {},
   "cell_type": "markdown",
   "id": "5a9399b3",
   "metadata": {},
   "source": [
    "## Selfpredict"
   ]
  },
  {
   "attachments": {},
   "cell_type": "markdown",
   "id": "50f4246b",
   "metadata": {},
   "source": [
    "We can also directly do a training and prediction on the same image (extracting the features only once)."
   ]
  },
  {
   "cell_type": "code",
   "execution_count": 53,
   "id": "c64f91e1",
   "metadata": {},
   "outputs": [],
   "source": [
    "self_pred_image = skimage.data.astronaut()#[0:504,0:504,:]\n",
    "self_pred_labels = plt.imread('images_and_labels/astro_labels.tif')#[0:504,0:504]\n",
    "ground_truth = plt.imread('images_and_labels/astro_ground_truth.tif')\n",
    "\n",
    "# self_pred_image = image_to_train\n",
    "# self_pred_labels = labels_to_train\n",
    "# # ground_truth = None\n",
    "\n",
    "self_pred = selfpredict_dino_forest(self_pred_image, self_pred_labels, ground_truth,\n",
    "                                    upscale_order=upscale_order, pad_mode=pad_mode, extra_pads=extra_pads, scales=scales,\n",
    "                                    dinov2_model=dinov2_model, dinov2_layers=dinov2_layers, vgg16_layers=vgg16, append_image_as_feature=image_as_feature,\n",
    "                                    show_napari=True)\n",
    "predicted_labels, image_scaled, labels_scaled, feature_space, acc = self_pred"
   ]
  },
  {
   "attachments": {},
   "cell_type": "markdown",
   "id": "49dc58fd",
   "metadata": {},
   "source": [
    "## Tests against ground truth"
   ]
  },
  {
   "cell_type": "code",
   "execution_count": 35,
   "id": "e225ecbc",
   "metadata": {},
   "outputs": [],
   "source": [
    "image_to_train = skimage.data.astronaut()#[200:300,250:400]\n",
    "labels_to_train = plt.imread('images_and_labels/astro_labels.tif')#[200:300,250:400]\n",
    "image_to_pred = None #skimage.data.camera()\n",
    "ground_truth = plt.imread('images_and_labels/astro_ground_truth.tif')#[200:300,250:400]\n",
    "\n",
    "# viewer = napari.Viewer()\n",
    "# viewer.add_image(image_to_train)\n",
    "# viewer.add_labels(labels_to_train)\n",
    "# viewer_2 = napari.Viewer()\n",
    "# viewer_2.add_image(image_to_pred)\n",
    "# viewer_2.add_labels(ground_truth)\n",
    "\n",
    "all_vggs = [0,2,5,7,10,12,14,17,19,21,24,26,28]\n",
    "single_vggs = [[i] for i in all_vggs]\n",
    "consecutive_vggs = [all_vggs[:s] for s in range(1,len(all_vggs))]\n",
    "dual_vggs = [[all_vggs[i], all_vggs[j]] for i in range(len(all_vggs)) for j in range(i+1, len(all_vggs))]\n",
    "\n",
    "dino_models = [None, 's']#, 'b']\n",
    "dino_layer_comboss = [()] #[[8, 9, 10, 11], [11]]\n",
    "vgg_layer_combos = [None, [2, 7]] #, [24,26,28]] #, all_vggs]#[0], [10], [17], [24], [0, 10, 17, 24]]#\n",
    "im_feats = [False] #, True]\n",
    "scale_combos = [(), [1.5]] #[[1,2]] #, [1,2]]"
   ]
  },
  {
   "cell_type": "code",
   "execution_count": 36,
   "id": "a6851f03",
   "metadata": {},
   "outputs": [
    {
     "name": "stdout",
     "output_type": "stream",
     "text": [
      "Running tests for DINOv2 model None, layers ()...\n",
      "    Running tests for VGG16 layers None...\n",
      "        Running tests without image as feature and with scale combination ()...\n",
      "        Running tests without image as feature and with scale combination [1.5]...\n",
      "    Running tests for VGG16 layers [2, 7]...\n",
      "        Running tests without image as feature and with scale combination ()...\n",
      "        Running tests without image as feature and with scale combination [1.5]...\n",
      "Running tests for DINOv2 model s, layers ()...\n",
      "    Running tests for VGG16 layers None...\n",
      "        Running tests without image as feature and with scale combination ()...\n",
      "        Running tests without image as feature and with scale combination [1.5]...\n",
      "    Running tests for VGG16 layers [2, 7]...\n",
      "        Running tests without image as feature and with scale combination ()...\n",
      "        Running tests without image as feature and with scale combination [1.5]...\n",
      "\n",
      "--- AVERAGES ---\n",
      "Average accuracy for DINOv2 model None, layers (): 82.25%\n",
      "Average accuracy for DINOv2 model s, layers (): 96.67%\n",
      "Average accuracy for VGG16 layers None: 96.68%\n",
      "Average accuracy for VGG16 layers [2, 7]: 89.45%\n",
      "Average accuracy for image as feature False: 91.86%\n",
      "Average accuracy for scale (): 91.93%\n",
      "Average accuracy for scale [1.5]: 91.79%\n",
      "\n",
      "--- MAXIMUM ---\n",
      "The maximum accuracy 97.22% is reached with:\n",
      "    dino model = s\n",
      "    dino layers = ()\n",
      "    vgg16 = [2, 7]\n",
      "    image as feature = False\n",
      "    scale = [1.5]\n"
     ]
    }
   ],
   "source": [
    "test = test_dino_forest(image_to_train, labels_to_train, ground_truth, image_to_pred,\n",
    "                        dinov2_models=dino_models, dinov2_layer_combos=dino_layer_comboss, scale_combos=scale_combos, vgg16_layer_combos=vgg_layer_combos, im_feats=im_feats,\n",
    "                        print_avg=True, print_max=True)\n",
    "accs, avg_accs, max_acc = test"
   ]
  },
  {
   "cell_type": "code",
   "execution_count": 40,
   "id": "4ef6ab5e",
   "metadata": {},
   "outputs": [
    {
     "name": "stdout",
     "output_type": "stream",
     "text": [
      "[[[0.         0.        ]\n",
      "  [0.83196259 0.81309128]]\n",
      "\n",
      " [[0.96504593 0.96849823]\n",
      "  [0.96096039 0.9721756 ]]]\n"
     ]
    },
    {
     "data": {
      "text/plain": [
       "(Viewer(camera=Camera(center=(0.0, 0.0, 0.5), zoom=222.775, angles=(0.0, 0.0, 90.0), perspective=0.0, mouse_pan=True, mouse_zoom=True), cursor=Cursor(position=(0.0, 0.0, 0.0, 0.0), scaled=True, size=1, style=<CursorStyle.STANDARD: 'standard'>), dims=Dims(ndim=4, ndisplay=2, last_used=0, range=((0.0, 2.0, 1.0), (0.0, 2.0, 1.0), (0.0, 1.0, 1.0), (0.0, 2.0, 1.0)), current_step=(0, 0, 0, 0), order=(0, 1, 2, 3), axis_labels=('0', '1', '2', '3')), grid=GridCanvas(stride=1, shape=(-1, -1), enabled=False), layers=[<Image layer 'accs' at 0x25d76d834c0>], help='use <2> for transform', status='Ready', tooltip=Tooltip(visible=False, text=''), theme='dark', title='napari', mouse_over_canvas=False, mouse_move_callbacks=[], mouse_drag_callbacks=[], mouse_double_click_callbacks=[], mouse_wheel_callbacks=[<function dims_scroll at 0x0000025D19833B80>], _persisted_mouse_event={}, _mouse_drag_gen={}, _mouse_wheel_gen={}, keymap={}),\n",
       " <Image layer 'accs' at 0x25d76d834c0>)"
      ]
     },
     "execution_count": 40,
     "metadata": {},
     "output_type": "execute_result"
    }
   ],
   "source": [
    "# plt.imshow(image_to_train)\n",
    "# im_pad = pad_to_patch(image_to_train, \"top\", \"left\", pad_mode=\"symmetric\", extra_pad=15, patch_size=(1,1))\n",
    "# plt.imshow(im_pad)\n",
    "# np.set_printoptions(linewidth=np.inf)\n",
    "# print(im_pad.shape, \"\\n\", im_pad[:30,:30])\n",
    "# print(accs)\n",
    "acc_3d = accs[:,:,0,:]\n",
    "print(acc_3d)\n",
    "napari.imshow(acc_3d)"
   ]
  }
 ],
 "metadata": {
  "kernelspec": {
   "display_name": "Python 3 (ipykernel)",
   "language": "python",
   "name": "python3"
  },
  "language_info": {
   "codemirror_mode": {
    "name": "ipython",
    "version": 3
   },
   "file_extension": ".py",
   "mimetype": "text/x-python",
   "name": "python",
   "nbconvert_exporter": "python",
   "pygments_lexer": "ipython3",
   "version": "3.9.17"
  }
 },
 "nbformat": 4,
 "nbformat_minor": 5
}
