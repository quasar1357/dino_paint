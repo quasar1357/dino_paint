{
 "cells": [
  {
   "attachments": {},
   "cell_type": "markdown",
   "id": "f9282643-c6fa-4806-8a91-0156710c8664",
   "metadata": {},
   "source": [
    "# Semantic Segmentation with convpaint and DINOv2\n",
    "\n",
    "This notebooks demonstrates how to run a semantic segmentation on an image using DINOv2 for feature extraction and a random forest algorithm for classification. It is based on the notebook provided by convpaint.\n"
   ]
  },
  {
   "attachments": {},
   "cell_type": "markdown",
   "id": "c9a1c36c",
   "metadata": {},
   "source": [
    "## Imports"
   ]
  },
  {
   "cell_type": "code",
   "execution_count": 9,
   "id": "e314538e-f42d-42d0-89a9-4ddd4588c483",
   "metadata": {},
   "outputs": [
    {
     "name": "stdout",
     "output_type": "stream",
     "text": [
      "The autoreload extension is already loaded. To reload it, use:\n",
      "  %reload_ext autoreload\n"
     ]
    }
   ],
   "source": [
    "%load_ext autoreload\n",
    "%autoreload 2\n",
    "\n",
    "import napari\n",
    "import numpy as np\n",
    "import skimage\n",
    "from matplotlib import pyplot as plt\n",
    "\n",
    "from napari_convpaint.conv_paint import ConvPaintWidget\n",
    "from napari_convpaint.conv_paint_utils import (train_classifier,\n",
    "                                               extract_annotated_pixels)\n",
    "from dino_paint_utils import (extract_single_image_dinov2_features,\n",
    "                              scale_to_patch,\n",
    "                              dino_features_to_image,\n",
    "                              predict_to_image)\n",
    "from dino_paint_utils import (train_dino_forest, predict_dino_forest)\n",
    "                              "
   ]
  },
  {
   "attachments": {},
   "cell_type": "markdown",
   "id": "02abf123-f8da-4c15-8dc4-79e421f843a0",
   "metadata": {},
   "source": [
    "## Load data\n",
    "\n",
    "First, we load an image for training the classifier and the corresponding annotation, as well as an image to predict."
   ]
  },
  {
   "cell_type": "code",
   "execution_count": 2,
   "id": "88dcd229-c9fe-4d4a-8df9-9f52cc4dc353",
   "metadata": {},
   "outputs": [
    {
     "name": "stdout",
     "output_type": "stream",
     "text": [
      "Train image shape: (512, 512, 3)\n",
      "Train label image shape: (512, 512)\n",
      "Predict image shape: (512, 512)\n"
     ]
    }
   ],
   "source": [
    "# image_original = skimage.data.cells3d()\n",
    "# image_original = image_original[30, 1]\n",
    "# from napari_convpaint.convpaint_sample import create_annotation_cell3d\n",
    "# labels_original = create_annotation_cell3d()[0][0]\n",
    "# crop = ((60,188), (0,128))\n",
    "# crop = ((20,20+224), (0,224))\n",
    "# image_original = image_original[crop[0][0]:crop[0][1], crop[1][0]:crop[1][1]]\n",
    "# labels_original = labels_original[crop[0][0]:crop[0][1], crop[1][0]:crop[1][1]]\n",
    "\n",
    "# LOAD ASTRONAUT IMAGE (RGB) AND ANNOTATION\n",
    "image_train = skimage.data.astronaut()#[0:504,0:504,:]\n",
    "labels_train = plt.imread('astro_labels_2.tif')[:,:,0]#[0:504,0:504]\n",
    "\n",
    "image_pred = skimage.data.camera()\n",
    "\n",
    "# PRINT SHAPES\n",
    "print(f\"Train image shape: {image_train.shape}\")\n",
    "print(f\"Train label image shape: {labels_train.shape}\")\n",
    "print(f\"Predict image shape: {image_pred.shape}\")"
   ]
  },
  {
   "attachments": {},
   "cell_type": "markdown",
   "id": "1570ce97",
   "metadata": {},
   "source": [
    "## Choose the model"
   ]
  },
  {
   "cell_type": "code",
   "execution_count": 3,
   "id": "80e4c999",
   "metadata": {},
   "outputs": [],
   "source": [
    "dinov2_model = 's' # choose between s, b, l and g"
   ]
  },
  {
   "attachments": {},
   "cell_type": "markdown",
   "id": "36382298",
   "metadata": {},
   "source": [
    "## Train\n",
    "Exctract the features using DINOv2 and use them to train a random forest classifier."
   ]
  },
  {
   "cell_type": "code",
   "execution_count": 12,
   "id": "bebe9781",
   "metadata": {},
   "outputs": [
    {
     "name": "stderr",
     "output_type": "stream",
     "text": [
      "Using cache found in C:\\Users\\roman/.cache\\torch\\hub\\facebookresearch_dinov2_main\n"
     ]
    }
   ],
   "source": [
    "random_forest, image_to_train, labels_to_train = train_dino_forest(image_train, labels_train, crop_to_patch=True, scale=1, dinov2_model=dinov2_model)"
   ]
  },
  {
   "cell_type": "code",
   "execution_count": 4,
   "id": "cb3691ed",
   "metadata": {},
   "outputs": [
    {
     "data": {
      "text/plain": [
       "<Labels layer 'labels_to_train' at 0x268ea138190>"
      ]
     },
     "execution_count": 4,
     "metadata": {},
     "output_type": "execute_result"
    }
   ],
   "source": [
    "# crop_to_patch_train = False\n",
    "# scale_train = 1\n",
    "\n",
    "# image_to_train = scale_to_patch(image_train, crop_to_patch_train, scale_train, interpolation_order=1)\n",
    "# labels_to_train = scale_to_patch(labels_train, crop_to_patch_train, scale_train, interpolation_order=0)\n",
    "\n",
    "# features_trained = extract_single_image_dinov2_features(image_to_train, dinov2_model)\n",
    "# features_space_trained = dino_features_to_image(features_trained, image_to_train.shape)\n",
    "# features_annot, targets = extract_annotated_pixels(features_space_trained, labels_to_train, full_annotation=False)\n",
    "# random_forest = train_classifier(features_annot, targets)"
   ]
  },
  {
   "cell_type": "code",
   "execution_count": 13,
   "id": "2dee9d3b",
   "metadata": {},
   "outputs": [
    {
     "data": {
      "text/plain": [
       "<Labels layer 'labels_to_train' at 0x26893854fa0>"
      ]
     },
     "execution_count": 13,
     "metadata": {},
     "output_type": "execute_result"
    }
   ],
   "source": [
    "viewer = napari.Viewer()\n",
    "viewer.add_image(image_to_train.astype(np.int32))\n",
    "viewer.add_labels(labels_to_train)"
   ]
  },
  {
   "attachments": {},
   "cell_type": "markdown",
   "id": "d8625bc9",
   "metadata": {},
   "source": [
    "## Predict\n",
    "Exctract the features and use them together with the trained classifier to make a prediciton for the labels."
   ]
  },
  {
   "cell_type": "code",
   "execution_count": 14,
   "id": "8a7de01f",
   "metadata": {},
   "outputs": [
    {
     "name": "stderr",
     "output_type": "stream",
     "text": [
      "Using cache found in C:\\Users\\roman/.cache\\torch\\hub\\facebookresearch_dinov2_main\n"
     ]
    }
   ],
   "source": [
    "predicted_labels, image_to_predict = predict_dino_forest(image_pred, random_forest, crop_to_patch=True, scale=1, dinov2_model=dinov2_model)"
   ]
  },
  {
   "cell_type": "code",
   "execution_count": 10,
   "id": "fd50ed95",
   "metadata": {},
   "outputs": [
    {
     "name": "stderr",
     "output_type": "stream",
     "text": [
      "Using cache found in C:\\Users\\roman/.cache\\torch\\hub\\facebookresearch_dinov2_main\n"
     ]
    }
   ],
   "source": [
    "# crop_to_patch_predict = True\n",
    "# scale_predict = 1\n",
    "\n",
    "# image_to_predict = scale_to_patch(image_pred, crop_to_patch_predict, scale_predict, interpolation_order=1)\n",
    "\n",
    "# features_to_predict = extract_single_image_dinov2_features(image_to_predict, dinov2_model)\n",
    "# predictions = random_forest.predict(features_to_predict)\n",
    "# predicted_labels = predict_to_image(predictions, image_to_predict.shape, interpolation_order=1)"
   ]
  },
  {
   "cell_type": "code",
   "execution_count": 15,
   "id": "9af12dbd",
   "metadata": {},
   "outputs": [
    {
     "data": {
      "text/plain": [
       "<Labels layer 'predicted_labels' at 0x268884a5be0>"
      ]
     },
     "execution_count": 15,
     "metadata": {},
     "output_type": "execute_result"
    }
   ],
   "source": [
    "viewer = napari.Viewer()\n",
    "viewer.add_image(image_to_predict.astype(np.int32))\n",
    "viewer.add_labels(predicted_labels)"
   ]
  }
 ],
 "metadata": {
  "kernelspec": {
   "display_name": "Python 3 (ipykernel)",
   "language": "python",
   "name": "python3"
  },
  "language_info": {
   "codemirror_mode": {
    "name": "ipython",
    "version": 3
   },
   "file_extension": ".py",
   "mimetype": "text/x-python",
   "name": "python",
   "nbconvert_exporter": "python",
   "pygments_lexer": "ipython3",
   "version": "3.9.17"
  }
 },
 "nbformat": 4,
 "nbformat_minor": 5
}
